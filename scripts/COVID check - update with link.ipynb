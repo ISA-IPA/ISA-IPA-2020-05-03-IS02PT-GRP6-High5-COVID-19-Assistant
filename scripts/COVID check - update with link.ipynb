{
 "cells": [
  {
   "cell_type": "markdown",
   "metadata": {
    "toc": true
   },
   "source": [
    "<h1>Table of Contents<span class=\"tocSkip\"></span></h1>\n",
    "<div class=\"toc\"><ul class=\"toc-item\"></ul></div>"
   ]
  },
  {
   "cell_type": "code",
   "execution_count": 1,
   "metadata": {
    "ExecuteTime": {
     "end_time": "2020-04-30T13:18:20.701787Z",
     "start_time": "2020-04-30T13:18:20.114472Z"
    }
   },
   "outputs": [],
   "source": [
    "import tagui as t\n",
    "import pandas as pd\n",
    "import numpy as np\n",
    "\n",
    "from IPython.display import display\n",
    "from PIL import Image\n",
    "\n",
    "import imgkit"
   ]
  },
  {
   "cell_type": "code",
   "execution_count": 2,
   "metadata": {
    "ExecuteTime": {
     "end_time": "2020-04-30T13:18:26.100994Z",
     "start_time": "2020-04-30T13:18:21.449426Z"
    }
   },
   "outputs": [
    {
     "data": {
      "text/plain": [
       "True"
      ]
     },
     "execution_count": 2,
     "metadata": {},
     "output_type": "execute_result"
    }
   ],
   "source": [
    "# Step 1\n",
    "t.init()"
   ]
  },
  {
   "cell_type": "code",
   "execution_count": 4,
   "metadata": {
    "ExecuteTime": {
     "end_time": "2020-04-30T13:18:46.067937Z",
     "start_time": "2020-04-30T13:18:46.061443Z"
    },
    "code_folding": []
   },
   "outputs": [],
   "source": [
    "def wait_for_pageload(selector):\n",
    "    wait_status = 0\n",
    "    for loop_wait in range(1, 60):\n",
    "        print(f\"{loop_wait}. waiting for page to appear. wait for 1s...\")\n",
    "        if t.present(selector):\n",
    "            wait_status = 1\n",
    "            break\n",
    "        else:\n",
    "            t.wait(1)\n",
    "    print(\"Covid wait_status = {}\".format(wait_status))"
   ]
  },
  {
   "cell_type": "code",
   "execution_count": 31,
   "metadata": {
    "ExecuteTime": {
     "end_time": "2020-04-12T08:13:21.813839Z",
     "start_time": "2020-04-12T08:13:21.737809Z"
    },
    "code_folding": [
     5,
     66,
     79,
     92,
     103,
     124,
     134,
     158,
     168,
     187
    ]
   },
   "outputs": [],
   "source": [
    "from goose3 import Goose\n",
    "from collections import Counter\n",
    "from math import fabs\n",
    "import re\n",
    "\n",
    "stopWords = {\n",
    "    \"-\", \" \", \",\", \".\", \"a\", \"e\", \"i\", \"o\", \"u\", \"t\", \"about\", \"above\",\n",
    "    \"above\", \"across\", \"after\", \"afterwards\", \"again\", \"against\", \"all\",\n",
    "    \"almost\", \"alone\", \"along\", \"already\", \"also\", \"although\", \"always\",\n",
    "    \"am\", \"among\", \"amongst\", \"amoungst\", \"amount\", \"an\", \"and\",\n",
    "    \"another\", \"any\", \"anyhow\", \"anyone\", \"anything\", \"anyway\",\n",
    "    \"anywhere\", \"are\", \"around\", \"as\", \"at\", \"back\", \"be\", \"became\",\n",
    "    \"because\", \"become\", \"becomes\", \"becoming\", \"been\", \"before\",\n",
    "    \"beforehand\", \"behind\", \"being\", \"below\", \"beside\", \"besides\",\n",
    "    \"between\", \"beyond\", \"both\", \"bottom\", \"but\", \"by\", \"call\", \"can\",\n",
    "    \"cannot\", \"can't\", \"co\", \"con\", \"could\", \"couldn't\", \"de\",\n",
    "    \"describe\", \"detail\", \"did\", \"do\", \"done\", \"down\", \"due\", \"during\",\n",
    "    \"each\", \"eg\", \"eight\", \"either\", \"eleven\", \"else\", \"elsewhere\",\n",
    "    \"empty\", \"enough\", \"etc\", \"even\", \"ever\", \"every\", \"everyone\",\n",
    "    \"everything\", \"everywhere\", \"except\", \"few\", \"fifteen\", \"fifty\",\n",
    "    \"fill\", \"find\", \"fire\", \"first\", \"five\", \"for\", \"former\",\n",
    "    \"formerly\", \"forty\", \"found\", \"four\", \"from\", \"front\", \"full\",\n",
    "    \"further\", \"get\", \"give\", \"go\", \"got\", \"had\", \"has\", \"hasnt\",\n",
    "    \"have\", \"he\", \"hence\", \"her\", \"here\", \"hereafter\", \"hereby\",\n",
    "    \"herein\", \"hereupon\", \"hers\", \"herself\", \"him\", \"himself\", \"his\",\n",
    "    \"how\", \"however\", \"hundred\", \"i\", \"ie\", \"if\", \"in\", \"inc\", \"indeed\",\n",
    "    \"into\", \"is\", \"it\", \"its\", \"it's\", \"itself\", \"just\", \"keep\", \"last\",\n",
    "    \"latter\", \"latterly\", \"least\", \"less\", \"like\", \"ltd\", \"made\", \"make\",\n",
    "    \"many\", \"may\", \"me\", \"meanwhile\", \"might\", \"mill\", \"mine\", \"more\",\n",
    "    \"moreover\", \"most\", \"mostly\", \"move\", \"much\", \"must\", \"my\", \"myself\",\n",
    "    \"name\", \"namely\", \"neither\", \"never\", \"nevertheless\", \"new\", \"next\",\n",
    "    \"nine\", \"no\", \"nobody\", \"none\", \"noone\", \"nor\", \"not\", \"nothing\",\n",
    "    \"now\", \"nowhere\", \"of\", \"off\", \"often\", \"on\", \"once\", \"one\", \"only\",\n",
    "    \"onto\", \"or\", \"other\", \"others\", \"otherwise\", \"our\", \"ours\",\n",
    "    \"ourselves\", \"out\", \"over\", \"own\", \"part\", \"people\", \"per\",\n",
    "    \"perhaps\", \"please\", \"put\", \"rather\", \"re\", \"said\", \"same\", \"see\",\n",
    "    \"seem\", \"seemed\", \"seeming\", \"seems\", \"several\", \"she\", \"should\",\n",
    "    \"show\", \"side\", \"since\", \"sincere\", \"six\", \"sixty\", \"so\", \"some\",\n",
    "    \"somehow\", \"someone\", \"something\", \"sometime\", \"sometimes\",\n",
    "    \"somewhere\", \"still\", \"such\", \"take\", \"ten\", \"than\", \"that\", \"the\",\n",
    "    \"their\", \"them\", \"themselves\", \"then\", \"thence\", \"there\",\n",
    "    \"thereafter\", \"thereby\", \"therefore\", \"therein\", \"thereupon\",\n",
    "    \"these\", \"they\", \"thickv\", \"thin\", \"third\", \"this\", \"those\",\n",
    "    \"though\", \"three\", \"through\", \"throughout\", \"thru\", \"thus\", \"to\",\n",
    "    \"together\", \"too\", \"top\", \"toward\", \"towards\", \"twelve\", \"twenty\",\n",
    "    \"two\", \"un\", \"under\", \"until\", \"up\", \"upon\", \"us\", \"use\", \"very\",\n",
    "    \"via\", \"want\", \"was\", \"we\", \"well\", \"were\", \"what\", \"whatever\",\n",
    "    \"when\", \"whence\", \"whenever\", \"where\", \"whereafter\", \"whereas\",\n",
    "    \"whereby\", \"wherein\", \"whereupon\", \"wherever\", \"whether\", \"which\",\n",
    "    \"while\", \"whither\", \"who\", \"whoever\", \"whole\", \"whom\", \"whose\",\n",
    "    \"why\", \"will\", \"with\", \"within\", \"without\", \"would\", \"yet\", \"you\",\n",
    "    \"your\", \"yours\", \"yourself\", \"yourselves\", \"the\", \"reuters\", \"news\",\n",
    "    \"monday\", \"tuesday\", \"wednesday\", \"thursday\", \"friday\", \"saturday\",\n",
    "    \"sunday\", \"mon\", \"tue\", \"wed\", \"thu\", \"fri\", \"sat\", \"sun\",\n",
    "    \"rappler\", \"rapplercom\", \"inquirer\", \"yahoo\", \"home\", \"sports\",\n",
    "    \"1\", \"10\", \"2012\", \"sa\", \"says\", \"tweet\", \"pm\", \"home\", \"homepage\",\n",
    "    \"sports\", \"section\", \"newsinfo\", \"stories\", \"story\", \"photo\",\n",
    "    \"2013\", \"na\", \"ng\", \"ang\", \"year\", \"years\", \"percent\", \"ko\", \"ako\",\n",
    "    \"yung\", \"yun\", \"2\", \"3\", \"4\", \"5\", \"6\", \"7\", \"8\", \"9\", \"0\", \"time\",\n",
    "    \"january\", \"february\", \"march\", \"april\", \"may\", \"june\", \"july\",\n",
    "    \"august\", \"september\", \"october\", \"november\", \"december\",\n",
    "    \"government\", \"police\"\n",
    "}\n",
    "ideal = 20.0\n",
    "\n",
    "\n",
    "def SummarizeUrl(url):\n",
    "    try:\n",
    "        article = grab_link(url)\n",
    "    except IOError:\n",
    "        print('IOError')\n",
    "        return None\n",
    "\n",
    "    if not (article and article.cleaned_text and article.title):\n",
    "        return None\n",
    "\n",
    "    return Summarize(article.title, article.cleaned_text)\n",
    "\n",
    "\n",
    "def Summarize(title, text):\n",
    "    sentences = split_sentences(text)\n",
    "    keys = keywords(text)\n",
    "    titleWords = split_words(title)\n",
    "\n",
    "    if len(sentences) <= 5:\n",
    "        return sentences\n",
    "\n",
    "    #score setences, and use the top 5 sentences\n",
    "    sentence_ranks = score(sentences, titleWords, keys)\n",
    "    return [sentence for sentence, score in sentence_ranks.most_common(5)]\n",
    "\n",
    "goose = Goose()\n",
    "def grab_link(url):\n",
    "    #extract article information using Python Goose\n",
    "    try:\n",
    "        article = goose.extract(url=url)\n",
    "        return article\n",
    "    except ValueError:\n",
    "        print('Goose failed to extract article from url')\n",
    "        return None\n",
    "    return None\n",
    "\n",
    "\n",
    "def score(sentences, titleWords, keywords):\n",
    "    #score sentences based on different features\n",
    "\n",
    "    senSize = len(sentences)\n",
    "    ranks = Counter()\n",
    "    for i, s in enumerate(sentences):\n",
    "        sentence = split_words(s)\n",
    "        titleFeature = title_score(titleWords, sentence)\n",
    "        sentenceLength = length_score(sentence)\n",
    "        sentencePosition = sentence_position(i+1, senSize)\n",
    "        sbsFeature = sbs(sentence, keywords)\n",
    "        dbsFeature = dbs(sentence, keywords)\n",
    "        frequency = (sbsFeature + dbsFeature) / 2.0 * 10.0\n",
    "\n",
    "        #weighted average of scores from four categories\n",
    "        totalScore = (titleFeature*1.5 + frequency*2.0 +\n",
    "                      sentenceLength*1.0 + sentencePosition*1.0) / 4.0\n",
    "        ranks[s] = totalScore\n",
    "    return ranks\n",
    "\n",
    "\n",
    "def sbs(words, keywords):\n",
    "    score = 0.0\n",
    "    if len(words) == 0:\n",
    "        return 0\n",
    "    for word in words:\n",
    "        if word in keywords:\n",
    "            score += keywords[word]\n",
    "    return (1.0 / fabs(len(words)) * score)/10.0\n",
    "\n",
    "\n",
    "def dbs(words, keywords):\n",
    "    if (len(words) == 0):\n",
    "        return 0\n",
    "\n",
    "    summ = 0\n",
    "    first = []\n",
    "    second = []\n",
    "\n",
    "    for i, word in enumerate(words):\n",
    "        if word in keywords:\n",
    "            score = keywords[word]\n",
    "            if first == []:\n",
    "                first = [i, score]\n",
    "            else:\n",
    "                second = first\n",
    "                first = [i, score]\n",
    "                dif = first[0] - second[0]\n",
    "                summ += (first[1]*second[1]) / (dif ** 2)\n",
    "\n",
    "    # number of intersections\n",
    "    k = len(set(keywords.keys()).intersection(set(words))) + 1\n",
    "    return (1/(k*(k+1.0))*summ)\n",
    "\n",
    "\n",
    "def split_words(text):\n",
    "    #split a string into array of words\n",
    "    try:\n",
    "        text = re.sub(r'[^\\w ]', '', text)  # strip special chars\n",
    "        return [x.strip('.').lower() for x in text.split()]\n",
    "    except TypeError:\n",
    "        print(\"Error while splitting characters\")\n",
    "        return None\n",
    "\n",
    "\n",
    "def keywords(text):\n",
    "    \"\"\"get the top 10 keywords and their frequency scores\n",
    "    ignores blacklisted words in stopWords,\n",
    "    counts the number of occurrences of each word\n",
    "    \"\"\"\n",
    "    text = split_words(text)\n",
    "    numWords = len(text)  # of words before removing blacklist words\n",
    "    freq = Counter(x for x in text if x not in stopWords)\n",
    "\n",
    "    minSize = min(10, len(freq))  # get first 10\n",
    "    keywords = {x: y for x, y in freq.most_common(minSize)}  # recreate a dict\n",
    "\n",
    "    for k in keywords:\n",
    "        articleScore = keywords[k]*1.0 / numWords\n",
    "        keywords[k] = articleScore * 1.5 + 1\n",
    "\n",
    "    return keywords\n",
    "\n",
    "\n",
    "def split_sentences(text):\n",
    "    '''\n",
    "    The regular expression matches all sentence ending punctuation and splits the string at those points.\n",
    "    At this point in the code, the list looks like this [\"Hello, world\", \"!\" ... ]. The punctuation and all quotation marks\n",
    "    are separated from the actual text. The first s_iter line turns each group of two items in the list into a tuple,\n",
    "    excluding the last item in the list (the last item in the list does not need to have this performed on it). Then,\n",
    "    the second s_iter line combines each tuple in the list into a single item and removes any whitespace at the beginning\n",
    "    of the line. Now, the s_iter list is formatted correctly but it is missing the last item of the sentences list. The\n",
    "    second to last line adds this item to the s_iter list and the last line returns the full list.\n",
    "    '''\n",
    "    \n",
    "    sentences = re.split('(?<![A-ZА-ЯЁ])([.!?]\"?)(?=\\s+\\\"?[A-ZА-ЯЁ])', text)\n",
    "    s_iter = list(zip(*[iter(sentences[:-1])] * 2))\n",
    "    s_iter = [''.join(map(str,y)).lstrip() for y in s_iter]\n",
    "    s_iter.append(sentences[-1])\n",
    "    return s_iter\n",
    "\n",
    "\n",
    "\n",
    "def length_score(sentence):\n",
    "    return 1 - fabs(ideal - len(sentence)) / ideal\n",
    "\n",
    "\n",
    "def title_score(title, sentence):\n",
    "    title = [x for x in title if x not in stopWords]\n",
    "    count = 0.0\n",
    "    for word in sentence:\n",
    "        if (word not in stopWords and word in title):\n",
    "            count += 1.0\n",
    "            \n",
    "    if len(title) == 0:\n",
    "        return 0.0\n",
    "        \n",
    "    return count/len(title)\n",
    "\n",
    "\n",
    "def sentence_position(i, size):\n",
    "    \"\"\"different sentence positions indicate different\n",
    "    probability of being an important sentence\"\"\"\n",
    "\n",
    "    normalized = i*1.0 / size\n",
    "    if 0 < normalized <= 0.1:\n",
    "        return 0.17\n",
    "    elif 0.1 < normalized <= 0.2:\n",
    "        return 0.23\n",
    "    elif 0.2 < normalized <= 0.3:\n",
    "        return 0.14\n",
    "    elif 0.3 < normalized <= 0.4:\n",
    "        return 0.08\n",
    "    elif 0.4 < normalized <= 0.5:\n",
    "        return 0.05\n",
    "    elif 0.5 < normalized <= 0.6:\n",
    "        return 0.04\n",
    "    elif 0.6 < normalized <= 0.7:\n",
    "        return 0.06\n",
    "    elif 0.7 < normalized <= 0.8:\n",
    "        return 0.04\n",
    "    elif 0.8 < normalized <= 0.9:\n",
    "        return 0.04\n",
    "    elif 0.9 < normalized <= 1.0:\n",
    "        return 0.15\n",
    "    else:\n",
    "        return 0"
   ]
  },
  {
   "cell_type": "code",
   "execution_count": 32,
   "metadata": {
    "ExecuteTime": {
     "end_time": "2020-04-12T08:13:37.145441Z",
     "start_time": "2020-04-12T08:13:25.137093Z"
    }
   },
   "outputs": [
    {
     "name": "stdout",
     "output_type": "stream",
     "text": [
      "[RPA][ERROR] - no active TagUI process to send()\n",
      "1. waiting for page to appear. wait for 1s...\n",
      "[RPA][ERROR] - use init() before using present()\n",
      "2. waiting for page to appear. wait for 1s...\n",
      "[RPA][ERROR] - use init() before using present()\n",
      "3. waiting for page to appear. wait for 1s...\n",
      "[RPA][ERROR] - use init() before using present()\n",
      "4. waiting for page to appear. wait for 1s...\n",
      "[RPA][ERROR] - use init() before using present()\n",
      "5. waiting for page to appear. wait for 1s...\n",
      "[RPA][ERROR] - use init() before using present()\n",
      "6. waiting for page to appear. wait for 1s...\n",
      "[RPA][ERROR] - use init() before using present()\n",
      "7. waiting for page to appear. wait for 1s...\n",
      "[RPA][ERROR] - use init() before using present()\n",
      "8. waiting for page to appear. wait for 1s...\n",
      "[RPA][ERROR] - use init() before using present()\n",
      "9. waiting for page to appear. wait for 1s...\n",
      "[RPA][ERROR] - use init() before using present()\n",
      "10. waiting for page to appear. wait for 1s...\n",
      "[RPA][ERROR] - use init() before using present()\n",
      "11. waiting for page to appear. wait for 1s...\n",
      "[RPA][ERROR] - use init() before using present()\n",
      "12. waiting for page to appear. wait for 1s...\n",
      "[RPA][ERROR] - use init() before using present()\n"
     ]
    },
    {
     "ename": "KeyboardInterrupt",
     "evalue": "",
     "output_type": "error",
     "traceback": [
      "\u001b[0;31m---------------------------------------------------------------------------\u001b[0m",
      "\u001b[0;31mKeyboardInterrupt\u001b[0m                         Traceback (most recent call last)",
      "\u001b[0;32m<ipython-input-32-0a202558a577>\u001b[0m in \u001b[0;36m<module>\u001b[0;34m\u001b[0m\n\u001b[1;32m      2\u001b[0m \u001b[0mt\u001b[0m\u001b[0;34m.\u001b[0m\u001b[0murl\u001b[0m\u001b[0;34m(\u001b[0m\u001b[0;34m'https://www.who.int/emergencies/diseases/novel-coronavirus-2019/media-resources/news'\u001b[0m\u001b[0;34m)\u001b[0m\u001b[0;34m\u001b[0m\u001b[0;34m\u001b[0m\u001b[0m\n\u001b[1;32m      3\u001b[0m \u001b[0;34m\u001b[0m\u001b[0m\n\u001b[0;32m----> 4\u001b[0;31m \u001b[0mwait_for_pageload\u001b[0m\u001b[0;34m(\u001b[0m\u001b[0;34m'//p[@class=\"heading text-underline\"]'\u001b[0m\u001b[0;34m)\u001b[0m\u001b[0;34m\u001b[0m\u001b[0;34m\u001b[0m\u001b[0m\n\u001b[0m\u001b[1;32m      5\u001b[0m \u001b[0;34m\u001b[0m\u001b[0m\n\u001b[1;32m      6\u001b[0m \u001b[0mnum_news\u001b[0m \u001b[0;34m=\u001b[0m \u001b[0mt\u001b[0m\u001b[0;34m.\u001b[0m\u001b[0mcount\u001b[0m\u001b[0;34m(\u001b[0m\u001b[0;34m'//p[@class=\"heading text-underline\"]'\u001b[0m\u001b[0;34m)\u001b[0m\u001b[0;34m\u001b[0m\u001b[0;34m\u001b[0m\u001b[0m\n",
      "\u001b[0;32m<ipython-input-30-c58a8cfba456>\u001b[0m in \u001b[0;36mwait_for_pageload\u001b[0;34m(selector)\u001b[0m\n\u001b[1;32m      7\u001b[0m             \u001b[0;32mbreak\u001b[0m\u001b[0;34m\u001b[0m\u001b[0;34m\u001b[0m\u001b[0m\n\u001b[1;32m      8\u001b[0m         \u001b[0;32melse\u001b[0m\u001b[0;34m:\u001b[0m\u001b[0;34m\u001b[0m\u001b[0;34m\u001b[0m\u001b[0m\n\u001b[0;32m----> 9\u001b[0;31m             \u001b[0mt\u001b[0m\u001b[0;34m.\u001b[0m\u001b[0mwait\u001b[0m\u001b[0;34m(\u001b[0m\u001b[0;36m1\u001b[0m\u001b[0;34m)\u001b[0m\u001b[0;34m\u001b[0m\u001b[0;34m\u001b[0m\u001b[0m\n\u001b[0m\u001b[1;32m     10\u001b[0m     \u001b[0mprint\u001b[0m\u001b[0;34m(\u001b[0m\u001b[0;34m\"Covid wait_status = {}\"\u001b[0m\u001b[0;34m.\u001b[0m\u001b[0mformat\u001b[0m\u001b[0;34m(\u001b[0m\u001b[0mwait_status\u001b[0m\u001b[0;34m)\u001b[0m\u001b[0;34m)\u001b[0m\u001b[0;34m\u001b[0m\u001b[0;34m\u001b[0m\u001b[0m\n",
      "\u001b[0;32m~/anaconda3/envs/iss/lib/python3.7/site-packages/tagui.py\u001b[0m in \u001b[0;36mwait\u001b[0;34m(delay_in_seconds)\u001b[0m\n\u001b[1;32m   1296\u001b[0m \u001b[0;34m\u001b[0m\u001b[0m\n\u001b[1;32m   1297\u001b[0m \u001b[0;32mdef\u001b[0m \u001b[0mwait\u001b[0m\u001b[0;34m(\u001b[0m\u001b[0mdelay_in_seconds\u001b[0m \u001b[0;34m=\u001b[0m \u001b[0;36m5.0\u001b[0m\u001b[0;34m)\u001b[0m\u001b[0;34m:\u001b[0m\u001b[0;34m\u001b[0m\u001b[0;34m\u001b[0m\u001b[0m\n\u001b[0;32m-> 1298\u001b[0;31m     \u001b[0mtime\u001b[0m\u001b[0;34m.\u001b[0m\u001b[0msleep\u001b[0m\u001b[0;34m(\u001b[0m\u001b[0mfloat\u001b[0m\u001b[0;34m(\u001b[0m\u001b[0mdelay_in_seconds\u001b[0m\u001b[0;34m)\u001b[0m\u001b[0;34m)\u001b[0m\u001b[0;34m;\u001b[0m \u001b[0;32mreturn\u001b[0m \u001b[0;32mTrue\u001b[0m\u001b[0;34m\u001b[0m\u001b[0;34m\u001b[0m\u001b[0m\n\u001b[0m\u001b[1;32m   1299\u001b[0m \u001b[0;34m\u001b[0m\u001b[0m\n\u001b[1;32m   1300\u001b[0m \u001b[0;32mdef\u001b[0m \u001b[0mcheck\u001b[0m\u001b[0;34m(\u001b[0m\u001b[0mcondition_to_check\u001b[0m \u001b[0;34m=\u001b[0m \u001b[0;32mNone\u001b[0m\u001b[0;34m,\u001b[0m \u001b[0mtext_if_true\u001b[0m \u001b[0;34m=\u001b[0m \u001b[0;34m''\u001b[0m\u001b[0;34m,\u001b[0m \u001b[0mtext_if_false\u001b[0m \u001b[0;34m=\u001b[0m \u001b[0;34m''\u001b[0m\u001b[0;34m)\u001b[0m\u001b[0;34m:\u001b[0m\u001b[0;34m\u001b[0m\u001b[0;34m\u001b[0m\u001b[0m\n",
      "\u001b[0;31mKeyboardInterrupt\u001b[0m: "
     ]
    }
   ],
   "source": [
    "# go to the news website\n",
    "t.url('https://www.who.int/emergencies/diseases/novel-coronavirus-2019/media-resources/news')\n",
    "\n",
    "wait_for_pageload('//p[@class=\"heading text-underline\"]')\n",
    "\n",
    "num_news = t.count('//p[@class=\"heading text-underline\"]') \n",
    "if num_news > 5:\n",
    "    num_news = 5\n",
    "\n",
    "for n in range(1, num_news+1):\n",
    "    news_link = t.read(f'(//p[@class=\"heading text-underline\"])[{n}]/ancestor-or-self::a/@href')\n",
    "    news_title = t.read(f'(//p[@class=\"heading text-underline\"])[{n}]/ancestor-or-self::a/@aria-label')\n",
    "    print('Article', n, \":\", news_title)\n",
    "    print('')\n",
    "    news_summaries = SummarizeUrl(news_link)\n",
    "    print(news_summaries)\n",
    "#     for sentence in summaries:\n",
    "#         print(sentence)\n",
    "#         print('')\n",
    "    print('-'*20)"
   ]
  },
  {
   "cell_type": "code",
   "execution_count": 5,
   "metadata": {
    "ExecuteTime": {
     "end_time": "2020-04-30T13:18:59.835191Z",
     "start_time": "2020-04-30T13:18:56.547972Z"
    }
   },
   "outputs": [
    {
     "name": "stdout",
     "output_type": "stream",
     "text": [
      "1. waiting for page to appear. wait for 1s...\n",
      "Covid wait_status = 1\n",
      "global confirmed cases number: 3,244,537\n",
      "global death number: 229,179\n",
      "global recovered number: 1,016,321\n"
     ]
    }
   ],
   "source": [
    "# go to the website\n",
    "t.url('https://www.worldometers.info/coronavirus/')\n",
    "\n",
    "wait_for_pageload('//div[@class=\"maincounter-number\"]')\n",
    "global_case = t.read('(//div[@class=\"maincounter-number\"])[1]/span')\n",
    "global_death = t.read('(//div[@class=\"maincounter-number\"])[2]/span')\n",
    "global_recovered = t.read('(//div[@class=\"maincounter-number\"])[3]/span')\n",
    "\n",
    "print(\"global confirmed cases number: \" + global_case)\n",
    "print(\"global death number: \" + global_death)\n",
    "print(\"global recovered number: \" + global_recovered)"
   ]
  },
  {
   "cell_type": "code",
   "execution_count": 6,
   "metadata": {
    "ExecuteTime": {
     "end_time": "2020-04-30T13:19:58.932304Z",
     "start_time": "2020-04-30T13:19:56.311550Z"
    }
   },
   "outputs": [
    {
     "name": "stdout",
     "output_type": "stream",
     "text": [
      "total_cases: 1,064,832\n",
      "new_cases: +638\n",
      "total_deaths: 61,680\n",
      "new_deaths: +24\n",
      "total_recovered: 147,473\n",
      "active_cases: 855,679\n",
      "serious_cases: 18,851\n",
      "link: https://www.worldometers.info/coronavirus/country/us/\n"
     ]
    }
   ],
   "source": [
    "# country search data\n",
    "# if by search (no need)\n",
    "# t.type('(//input[@type=\"search\"])[1]', country_input)\n",
    "\n",
    "country_input = 'USA'\n",
    "\n",
    "country_row_xpath = f'(//a[@class=\"mt_a\" and text()=\"{country_input}\"])[1]'\n",
    "\n",
    "country_link_xpath = country_row_xpath + '/@href'\n",
    "country_total_cases_xpath = country_row_xpath + '/../following-sibling::td[1]'\n",
    "country_new_cases_xpath = country_row_xpath + '/../following-sibling::td[2]'\n",
    "country_total_deaths_xpath = country_row_xpath + '/../following-sibling::td[3]'\n",
    "country_new_deaths_xpath = country_row_xpath + '/../following-sibling::td[4]'\n",
    "country_total_recovered_xpath = country_row_xpath + '/../following-sibling::td[5]'\n",
    "country_active_cases_xpath = country_row_xpath + '/../following-sibling::td[6]'\n",
    "country_serious_cases_xpath = country_row_xpath + '/../following-sibling::td[7]'\n",
    "\n",
    "country_link = 'https://www.worldometers.info/coronavirus/' + t.read(country_link_xpath)\n",
    "country_total_cases = t.read(country_total_cases_xpath)\n",
    "country_new_cases = t.read(country_new_cases_xpath)\n",
    "country_total_deaths = t.read(country_total_deaths_xpath)\n",
    "country_new_deaths = t.read(country_new_deaths_xpath)\n",
    "country_total_recovered = t.read(country_total_recovered_xpath)\n",
    "country_active_cases = t.read(country_active_cases_xpath)\n",
    "country_serious_cases = t.read(country_serious_cases_xpath)\n",
    "\n",
    "print(\"total_cases: \" + country_total_cases)\n",
    "print(\"new_cases: \" + country_new_cases)\n",
    "print(\"total_deaths: \" + country_total_deaths)\n",
    "print(\"new_deaths: \" + country_new_deaths)\n",
    "print(\"total_recovered: \" + country_total_recovered)\n",
    "print(\"active_cases: \" + country_active_cases)\n",
    "print(\"serious_cases: \" + country_serious_cases)\n",
    "print(\"link: \" + country_link)"
   ]
  },
  {
   "cell_type": "code",
   "execution_count": 9,
   "metadata": {
    "ExecuteTime": {
     "end_time": "2020-04-30T13:22:02.493933Z",
     "start_time": "2020-04-30T13:21:53.727243Z"
    }
   },
   "outputs": [
    {
     "name": "stdout",
     "output_type": "stream",
     "text": [
      "n = 1\n",
      "country_name: USA\n",
      "total_cases: 1,064,832\n",
      "new_cases: +638\n",
      "total_deaths: 61,680\n",
      "new_deaths: +24\n",
      "total_recovered: 147,473\n",
      "active_cases: 855,679\n",
      "serious_cases: 18,851\n",
      "link: https://www.worldometers.info/coronavirus/country/us/\n",
      "--------------------\n",
      "n = 2\n",
      "country_name: Spain\n",
      "total_cases: 239,639\n",
      "new_cases: +2,740\n",
      "total_deaths: 24,543\n",
      "new_deaths: +268\n",
      "total_recovered: 137,984\n",
      "active_cases: 77,112\n",
      "serious_cases: 2,676\n",
      "link: https://www.worldometers.info/coronavirus/country/spain/\n",
      "--------------------\n",
      "n = 3\n",
      "country_name: Italy\n",
      "total_cases: 203,591\n",
      "new_cases: \n",
      "total_deaths: 27,682\n",
      "new_deaths: \n",
      "total_recovered: 71,252\n",
      "active_cases: 104,657\n",
      "serious_cases: 1,795\n",
      "link: https://www.worldometers.info/coronavirus/country/italy/\n",
      "--------------------\n"
     ]
    }
   ],
   "source": [
    "# all countries data (database preparation)\n",
    "num_country = int(t.count('(//a[@class=\"mt_a\"])')/2) # first half is for today, second half is for yesterday\n",
    "# num_country = 3 # testing\n",
    "data_country = []\n",
    "col_country = ['No','Country','Total Cases', 'New Cases', 'Total Deaths', \n",
    "               'New Deaths', 'Total Recovered', 'Active Cases', 'Serious Cases', 'Link']\n",
    "\n",
    "for n in range(1, num_country+1):\n",
    "    country_row_xpath = f'(//a[@class=\"mt_a\"])[{n}]'\n",
    "    \n",
    "    country_link_xpath = country_row_xpath + '/@href'\n",
    "    country_total_cases_xpath = country_row_xpath + '/../following-sibling::td[1]'\n",
    "    country_new_cases_xpath = country_row_xpath + '/../following-sibling::td[2]'\n",
    "    country_total_deaths_xpath = country_row_xpath + '/../following-sibling::td[3]'\n",
    "    country_new_deaths_xpath = country_row_xpath + '/../following-sibling::td[4]'\n",
    "    country_total_recovered_xpath = country_row_xpath + '/../following-sibling::td[5]'\n",
    "    country_active_cases_xpath = country_row_xpath + '/../following-sibling::td[6]'\n",
    "    country_serious_cases_xpath = country_row_xpath + '/../following-sibling::td[7]'\n",
    "    \n",
    "    country_link = 'https://www.worldometers.info/coronavirus/' + t.read(country_link_xpath)\n",
    "    country_total_cases = t.read(country_total_cases_xpath)\n",
    "    country_new_cases = t.read(country_new_cases_xpath)\n",
    "    country_total_deaths = t.read(country_total_deaths_xpath)\n",
    "    country_new_deaths = t.read(country_new_deaths_xpath)\n",
    "    country_total_recovered = t.read(country_total_recovered_xpath)\n",
    "    country_active_cases = t.read(country_active_cases_xpath)\n",
    "    country_serious_cases = t.read(country_serious_cases_xpath)\n",
    "    \n",
    "    country_name = t.read(country_row_xpath)\n",
    "    \n",
    "    print(\"n =\", n)\n",
    "    print(\"country_name:\", country_name)\n",
    "    print(\"total_cases:\", country_total_cases)\n",
    "    print(\"new_cases:\", country_new_cases)\n",
    "    print(\"total_deaths:\", country_total_deaths)\n",
    "    print(\"new_deaths:\", country_new_deaths)\n",
    "    print(\"total_recovered:\", country_total_recovered)\n",
    "    print(\"active_cases:\", country_active_cases)\n",
    "    print(\"serious_cases:\", country_serious_cases)\n",
    "    print(\"link:\", country_link)\n",
    "    \n",
    "    print(\"-\"*20)\n",
    "\n",
    "    data_country.append([n, country_name, country_total_cases, \n",
    "                         country_new_cases, country_total_deaths, country_new_deaths, \n",
    "                         country_total_recovered, country_active_cases, country_serious_cases,\n",
    "                         country_link])\n",
    "    df_country  = pd.DataFrame(data_country, columns = col_country)"
   ]
  },
  {
   "cell_type": "code",
   "execution_count": 8,
   "metadata": {
    "ExecuteTime": {
     "end_time": "2020-04-30T13:21:31.632920Z",
     "start_time": "2020-04-30T13:21:31.618656Z"
    }
   },
   "outputs": [
    {
     "data": {
      "text/html": [
       "<div>\n",
       "<style scoped>\n",
       "    .dataframe tbody tr th:only-of-type {\n",
       "        vertical-align: middle;\n",
       "    }\n",
       "\n",
       "    .dataframe tbody tr th {\n",
       "        vertical-align: top;\n",
       "    }\n",
       "\n",
       "    .dataframe thead th {\n",
       "        text-align: right;\n",
       "    }\n",
       "</style>\n",
       "<table border=\"1\" class=\"dataframe\">\n",
       "  <thead>\n",
       "    <tr style=\"text-align: right;\">\n",
       "      <th></th>\n",
       "      <th>No</th>\n",
       "      <th>Country</th>\n",
       "      <th>Total Cases</th>\n",
       "      <th>New Cases</th>\n",
       "      <th>Total Deaths</th>\n",
       "      <th>New Deaths</th>\n",
       "      <th>Total Recovered</th>\n",
       "      <th>Active Cases</th>\n",
       "      <th>Serious Cases</th>\n",
       "      <th>Link</th>\n",
       "    </tr>\n",
       "  </thead>\n",
       "  <tbody>\n",
       "    <tr>\n",
       "      <th>0</th>\n",
       "      <td>1</td>\n",
       "      <td>USA</td>\n",
       "      <td>1,064,832</td>\n",
       "      <td>+638</td>\n",
       "      <td>61,680</td>\n",
       "      <td>+24</td>\n",
       "      <td>147,473</td>\n",
       "      <td>855,679</td>\n",
       "      <td>18,851</td>\n",
       "      <td>https://www.worldometers.info/coronavirus/coun...</td>\n",
       "    </tr>\n",
       "    <tr>\n",
       "      <th>1</th>\n",
       "      <td>2</td>\n",
       "      <td>Spain</td>\n",
       "      <td>239,639</td>\n",
       "      <td>+2,740</td>\n",
       "      <td>24,543</td>\n",
       "      <td>+268</td>\n",
       "      <td>137,984</td>\n",
       "      <td>77,112</td>\n",
       "      <td>2,676</td>\n",
       "      <td>https://www.worldometers.info/coronavirus/coun...</td>\n",
       "    </tr>\n",
       "    <tr>\n",
       "      <th>2</th>\n",
       "      <td>3</td>\n",
       "      <td>Italy</td>\n",
       "      <td>203,591</td>\n",
       "      <td></td>\n",
       "      <td>27,682</td>\n",
       "      <td></td>\n",
       "      <td>71,252</td>\n",
       "      <td>104,657</td>\n",
       "      <td>1,795</td>\n",
       "      <td>https://www.worldometers.info/coronavirus/coun...</td>\n",
       "    </tr>\n",
       "  </tbody>\n",
       "</table>\n",
       "</div>"
      ],
      "text/plain": [
       "   No Country Total Cases New Cases Total Deaths New Deaths Total Recovered  \\\n",
       "0   1     USA   1,064,832      +638       61,680        +24         147,473   \n",
       "1   2   Spain     239,639    +2,740       24,543       +268         137,984   \n",
       "2   3   Italy     203,591                 27,682                     71,252   \n",
       "\n",
       "  Active Cases Serious Cases  \\\n",
       "0      855,679        18,851   \n",
       "1       77,112         2,676   \n",
       "2      104,657         1,795   \n",
       "\n",
       "                                                Link  \n",
       "0  https://www.worldometers.info/coronavirus/coun...  \n",
       "1  https://www.worldometers.info/coronavirus/coun...  \n",
       "2  https://www.worldometers.info/coronavirus/coun...  "
      ]
     },
     "execution_count": 8,
     "metadata": {},
     "output_type": "execute_result"
    }
   ],
   "source": [
    "df_country"
   ]
  },
  {
   "cell_type": "code",
   "execution_count": 41,
   "metadata": {
    "ExecuteTime": {
     "end_time": "2020-04-08T12:49:46.659407Z",
     "start_time": "2020-04-08T12:49:46.649515Z"
    }
   },
   "outputs": [],
   "source": [
    "# save to csv\n",
    "df_country.to_csv('covid_country.csv', index=False)"
   ]
  },
  {
   "cell_type": "code",
   "execution_count": null,
   "metadata": {},
   "outputs": [],
   "source": [
    "# extract html element for the whole page\n",
    "html_element = t.read('page')\n",
    "t.dump(html_element, 'whole.html')\n",
    "\n",
    "# TODO extract svg element data\n"
   ]
  },
  {
   "cell_type": "code",
   "execution_count": 42,
   "metadata": {
    "ExecuteTime": {
     "end_time": "2020-04-08T13:16:06.135973Z",
     "start_time": "2020-04-08T13:16:04.818436Z"
    }
   },
   "outputs": [
    {
     "name": "stdout",
     "output_type": "stream",
     "text": [
      "Loading page (1/2)\n",
      "[>                                                           ] 0%\r",
      "[======>                                                     ] 10%\r",
      "[==============================>                             ] 50%\r",
      "[============================================================] 100%\r",
      "Rendering (2/2)                                                    \n",
      "[>                                                           ] 0%\r",
      "[===============>                                            ] 25%\r",
      "[============================================================] 100%\r",
      "Done                                                               \n"
     ]
    },
    {
     "data": {
      "text/plain": [
       "True"
      ]
     },
     "execution_count": 42,
     "metadata": {},
     "output_type": "execute_result"
    }
   ],
   "source": [
    "# save html to image file\n",
    "options = {\n",
    "    'format': 'png',\n",
    "    'crop-h': '400',\n",
    "    'crop-w': '350',\n",
    "    'crop-x': '3',\n",
    "    'crop-y': '3',\n",
    "    'encoding': \"UTF-8\"\n",
    "}\n",
    "\n",
    "imgkit.from_file('xx.html', 'out_test.jpg', options=options)"
   ]
  },
  {
   "cell_type": "code",
   "execution_count": 44,
   "metadata": {
    "ExecuteTime": {
     "end_time": "2020-04-08T13:18:22.101250Z",
     "start_time": "2020-04-08T13:18:21.356753Z"
    }
   },
   "outputs": [
    {
     "data": {
      "image/png": "[encoded data removed]",
      "text/plain": [
       "<PIL.PngImagePlugin.PngImageFile image mode=RGBA size=1406x154 at 0x112EEFE10>"
      ]
     },
     "metadata": {},
     "output_type": "display_data"
    }
   ],
   "source": [
    "global_case_chart = '(//*[name()=\"svg\"]/*[name()=\"rect\" and @class=\"highcharts-background\"])[3]/../../..'\n",
    "test = '(//div[@class=\"maincounter-number\"])[1]'\n",
    "\n",
    "# t.snap(global_case_chart, 'test.png')\n",
    "\n",
    "us = '/html/body/div[3]/div[2]/div[1]/div/div[6]/div/span'\n",
    "t.snap(test, 'test.png')\n",
    "display(Image.open('test.png'))"
   ]
  },
  {
   "cell_type": "code",
   "execution_count": 10,
   "metadata": {
    "ExecuteTime": {
     "end_time": "2020-04-30T13:22:09.723557Z",
     "start_time": "2020-04-30T13:22:04.400695Z"
    }
   },
   "outputs": [
    {
     "data": {
      "text/plain": [
       "True"
      ]
     },
     "execution_count": 10,
     "metadata": {},
     "output_type": "execute_result"
    }
   ],
   "source": [
    "t.close()"
   ]
  }
 ],
 "metadata": {
  "kernelspec": {
   "display_name": "Python 3",
   "language": "python",
   "name": "python3"
  },
  "language_info": {
   "codemirror_mode": {
    "name": "ipython",
    "version": 3
   },
   "file_extension": ".py",
   "mimetype": "text/x-python",
   "name": "python",
   "nbconvert_exporter": "python",
   "pygments_lexer": "ipython3",
   "version": "3.7.6"
  },
  "toc": {
   "base_numbering": 1,
   "nav_menu": {},
   "number_sections": true,
   "sideBar": true,
   "skip_h1_title": false,
   "title_cell": "Table of Contents",
   "title_sidebar": "Contents",
   "toc_cell": true,
   "toc_position": {},
   "toc_section_display": true,
   "toc_window_display": false
  },
  "varInspector": {
   "cols": {
    "lenName": 16,
    "lenType": 16,
    "lenVar": 40
   },
   "kernels_config": {
    "python": {
     "delete_cmd_postfix": "",
     "delete_cmd_prefix": "del ",
     "library": "var_list.py",
     "varRefreshCmd": "print(var_dic_list())"
    },
    "r": {
     "delete_cmd_postfix": ") ",
     "delete_cmd_prefix": "rm(",
     "library": "var_list.r",
     "varRefreshCmd": "cat(var_dic_list()) "
    }
   },
   "types_to_exclude": [
    "module",
    "function",
    "builtin_function_or_method",
    "instance",
    "_Feature"
   ],
   "window_display": false
  }
 },
 "nbformat": 4,
 "nbformat_minor": 2
}
