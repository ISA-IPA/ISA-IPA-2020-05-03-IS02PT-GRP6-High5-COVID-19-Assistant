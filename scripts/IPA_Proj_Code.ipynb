{
 "cells": [
  {
   "cell_type": "code",
   "execution_count": 1,
   "metadata": {},
   "outputs": [],
   "source": [
    "from selenium import webdriver"
   ]
  },
  {
   "cell_type": "code",
   "execution_count": 2,
   "metadata": {},
   "outputs": [],
   "source": [
    "import json\n",
    "\n",
    "email_info = None\n",
    "with open(\"email_info.json\",'r') as load_f: # Ask lecturer for this exercise_2/email_info.json file\n",
    "    email_info = json.load(load_f)\n",
    "    \n",
    "email_info = email_info['1']"
   ]
  },
  {
   "cell_type": "code",
   "execution_count": 3,
   "metadata": {},
   "outputs": [],
   "source": [
    "options = webdriver.ChromeOptions() \n",
    "options.add_argument(\"start-maximized\")\n",
    "options.add_experimental_option(\"excludeSwitches\", [\"enable-automation\"])\n",
    "options.add_experimental_option('useAutomationExtension', False)\n",
    "#driver = webdriver.Chrome('/Users/Duo/Downloads/GitHub/S-IPA-Workshop/workshop1/WebAutomation/chromedriver')  # Optional argument, if not specified will search path.\n",
    "driver = webdriver.Chrome(options=options, executable_path=r'chromedriver')\n",
    "driver.execute_cdp_cmd(\"Page.addScriptToEvaluateOnNewDocument\", {\n",
    "  \"source\": \"\"\"\n",
    "    Object.defineProperty(navigator, 'webdriver', {\n",
    "      get: () => undefined\n",
    "    })\n",
    "  \"\"\"\n",
    "})\n",
    "driver.get(\"https://vafs.nus.edu.sg/adfs/oauth2/authorize?response_type=code&client_id=97F0D1CACA7D41DE87538F9362924CCB-184318&resource=sg_edu_nus_oauth&redirect_uri=https%3A%2F%2Fmyaces.nus.edu.sg%3A443%2Fhtd%2Fhtd\")"
   ]
  },
  {
   "cell_type": "code",
   "execution_count": 4,
   "metadata": {},
   "outputs": [],
   "source": [
    "email = driver.find_element_by_xpath(\"//input[@id='userNameInput']\");\n",
    "\n",
    "password = driver.find_element_by_xpath(\"//input[@id='passwordInput']\");\n",
    "\n",
    "email.send_keys(email_info['email']);\n",
    "password.send_keys(email_info['password']);"
   ]
  },
  {
   "cell_type": "code",
   "execution_count": 5,
   "metadata": {},
   "outputs": [],
   "source": [
    "login = driver.find_element_by_id(\"submitButton\");\n",
    "login.click()"
   ]
  },
  {
   "cell_type": "code",
   "execution_count": 6,
   "metadata": {},
   "outputs": [],
   "source": [
    "temperature = driver.find_element_by_xpath(\"//input[@id='temperature']\");\n",
    "symptom_y = driver.find_element_by_xpath(\"//input[@value='Y']\");\n",
    "symptom_n = driver.find_element_by_xpath(\"//input[@value='N']\");\n",
    "\n",
    "temperature.send_keys(\"36.6\")\n",
    "\n",
    "symp=\"No\"\n",
    "\n",
    "if symp == \"No\":\n",
    "    symptom_n.click();\n",
    "else:\n",
    "    symptom_y.click();"
   ]
  },
  {
   "cell_type": "code",
   "execution_count": 7,
   "metadata": {},
   "outputs": [],
   "source": [
    "submit = driver.find_element_by_xpath(\"//input[@value='Submit']\");\n",
    "\n",
    "submit.click();"
   ]
  },
  {
   "cell_type": "code",
   "execution_count": 8,
   "metadata": {},
   "outputs": [
    {
     "data": {
      "text/plain": [
       "True"
      ]
     },
     "execution_count": 8,
     "metadata": {},
     "output_type": "execute_result"
    }
   ],
   "source": [
    "driver.save_screenshot(\"screenshot.png\")"
   ]
  },
  {
   "cell_type": "code",
   "execution_count": null,
   "metadata": {},
   "outputs": [],
   "source": []
  }
 ],
 "metadata": {
  "kernelspec": {
   "display_name": "Python 3",
   "language": "python",
   "name": "python3"
  },
  "language_info": {
   "codemirror_mode": {
    "name": "ipython",
    "version": 3
   },
   "file_extension": ".py",
   "mimetype": "text/x-python",
   "name": "python",
   "nbconvert_exporter": "python",
   "pygments_lexer": "ipython3",
   "version": "3.7.6"
  }
 },
 "nbformat": 4,
 "nbformat_minor": 2
}
