{
 "cells": [
  {
   "cell_type": "markdown",
   "metadata": {
    "toc": true
   },
   "source": [
    "<h1>Table of Contents<span class=\"tocSkip\"></span></h1>\n",
    "<div class=\"toc\"><ul class=\"toc-item\"></ul></div>"
   ]
  },
  {
   "cell_type": "code",
   "execution_count": 24,
   "metadata": {
    "ExecuteTime": {
     "end_time": "2020-04-30T13:28:39.034023Z",
     "start_time": "2020-04-30T13:28:39.031283Z"
    }
   },
   "outputs": [],
   "source": [
    "from selenium import webdriver\n",
    "from selenium.webdriver.support.ui import WebDriverWait\n",
    "import imgkit\n",
    "import time"
   ]
  },
  {
   "cell_type": "code",
   "execution_count": 25,
   "metadata": {
    "ExecuteTime": {
     "end_time": "2020-04-30T13:28:42.900832Z",
     "start_time": "2020-04-30T13:28:40.829770Z"
    }
   },
   "outputs": [],
   "source": [
    "chrome_driver_path = \"./chromedriver\"\n",
    "driver = webdriver.Chrome(executable_path = chrome_driver_path)\n",
    "# driver.get('https://www.worldometers.info/coronavirus/')\n",
    "# global_case_chart = '(//*[name()=\"svg\"]/*[name()=\"rect\" and @class=\"highcharts-background\"])[3]/../../..'\n",
    "# global_chart_element = driver.find_element_by_xpath(global_case_chart).get_attribute('innerHTML')"
   ]
  },
  {
   "cell_type": "code",
   "execution_count": 26,
   "metadata": {
    "ExecuteTime": {
     "end_time": "2020-04-30T13:28:47.506448Z",
     "start_time": "2020-04-30T13:28:42.927319Z"
    }
   },
   "outputs": [],
   "source": [
    "# driver.get('https://www.worldometers.info/coronavirus/country/us/')\n",
    "driver.get('https://www.worldometers.info/coronavirus/country/france/')\n",
    "#wait = WebDriverWait(driver, 1000)\n",
    "driver.implicitly_wait(2)\n",
    "#time.sleep(1)\n",
    "# country_case_chart = '(//*[name()=\"tspan\" and text()=\"Total Cases\"])[1]/../../../../../..'\n",
    "country_case_chart = '//h3[contains(text(),\"Total Coronavirus Cases in\")]/..'\n",
    "country_case_chart_element = driver.find_element_by_xpath(country_case_chart).get_attribute('innerHTML')"
   ]
  },
  {
   "cell_type": "code",
   "execution_count": 27,
   "metadata": {
    "ExecuteTime": {
     "end_time": "2020-04-30T12:14:23.553810Z",
     "start_time": "2020-04-30T12:14:23.548563Z"
    },
    "scrolled": true
   },
   "outputs": [
    {
     "name": "stdout",
     "output_type": "stream",
     "text": [
      "\n",
      "<h3>Total Coronavirus Cases in France</h3>\n",
      "<style>\n",
      "    /* Tabs panel */\n",
      "    .tabbable-panel-cases {\n",
      "        border: 1px solid #ccc;\n",
      "        padding: 10px;\n",
      "    }\n",
      "\n",
      "    /* Default mode */\n",
      "    .tabbable-line-cases>.nav-tabs {\n",
      "        border: none;\n",
      "        margin: 0px;\n",
      "    }\n",
      "\n",
      "    .tabbable-line-cases>.nav-tabs>li {\n",
      "        margin-right: 2px;\n",
      "\n",
      "    }\n",
      "\n",
      "    .tabbable-line-cases>.nav-tabs>li>a {\n",
      "        border: 0;\n",
      "        margin-right: 0;\n",
      "        color: #737373;\n",
      "        font-size: 13px;\n",
      "        text-decoration: none !important;\n",
      "    }\n",
      "\n",
      "    .tabbable-line-cases>.nav-tabs>li>a>i {\n",
      "        color: #a6a6a6;\n",
      "    }\n",
      "\n",
      "    .tabbable-line-cases>.nav-tabs>li.open,\n",
      "    .tabbable-line-cases>.nav-tabs>li:hover {\n",
      "        border-bottom: 3px solid #fbcdcf;\n",
      "\n",
      "    }\n",
      "\n",
      "    .tabbable-line-cases>.nav-tabs>li.open>a,\n",
      "    .tabbable-line-cases>.nav-tabs>li:hover>a {\n",
      "        border: 0;\n",
      "        background: none !important;\n",
      "        color: #333333;\n",
      "    }\n",
      "\n",
      "    .tabbable-line-cases>.nav-tabs>li.open>a>i,\n",
      "    .tabbable-line-cases>.nav-tabs>li:hover>a>i {\n",
      "        color: #77DDFF;\n",
      "    }\n",
      "\n",
      "    .tabbable-line-cases>.nav-tabs>li.open .dropdown-menu,\n",
      "    .tabbable-line-cases>.nav-tabs>li:hover .dropdown-menu {\n",
      "        margin-top: 0px;\n",
      "    }\n",
      "\n",
      "    .tabbable-line-cases>.nav-tabs>li.active {\n",
      "        border-bottom: 3px solid #33CCFF;\n",
      "\n",
      "\n",
      "        position: relative;\n",
      "\n",
      "    }\n",
      "\n",
      "    .tabbable-line-cases>.nav-tabs>li.active>a {\n",
      "        border: 0;\n",
      "        color: #333333;\n",
      "    }\n",
      "\n",
      "    .tabbable-line-cases>.nav-tabs>li.active>a>i {\n",
      "        color: #404040;\n",
      "    }\n",
      "\n",
      "    .tabbable-line-cases>.tab-content {\n",
      "        margin-top: -3px;\n",
      "        background-color: #fff;\n",
      "        border: 0;\n",
      "        border-top: 1px solid #eee;\n",
      "        padding: 15px 0;\n",
      "    }\n",
      "\n",
      "    .portlet .tabbable-line-cases>.tab-content {\n",
      "        padding-bottom: 0;\n",
      "    }\n",
      "</style>\n",
      "\n",
      "<div class=\"tabbable-panel-cases\">\n",
      "<div class=\"tabbable-line-cases\">\n",
      "<ul class=\"nav nav-tabs \">\n",
      "<li class=\"active\">\n",
      "<a href=\"#coronavirus-cases-linear\" data-toggle=\"tab\">\n",
      "linear </a>\n",
      "</li>\n",
      "<li>\n",
      "<a href=\"#coronavirus-cases-log\" data-toggle=\"tab\">\n",
      "logarithmic </a>\n",
      "</li>\n",
      "</ul>\n",
      "<div class=\"tab-content\">\n",
      "<div class=\"tab-pane active\" id=\"coronavirus-cases-linear\" data-highcharts-chart=\"2\" style=\"overflow: hidden;\"><div id=\"highcharts-b7z3tyw-241\" dir=\"ltr\" class=\"highcharts-container \" style=\"position: relative; overflow: hidden; width: 698px; height: 400px; text-align: left; line-height: normal; z-index: 0; -webkit-tap-highlight-color: rgba(0, 0, 0, 0);\"><svg version=\"1.1\" class=\"highcharts-root\" style=\"font-family:&quot;Lucida Grande&quot;, &quot;Lucida Sans Unicode&quot;, Arial, Helvetica, sans-serif;font-size:12px;\" xmlns=\"http://www.w3.org/2000/svg\" width=\"698\" height=\"400\" viewBox=\"0 0 698 400\"><desc>Created with Highcharts 8.0.4</desc><defs><clipPath id=\"highcharts-b7z3tyw-242-\"><rect x=\"0\" y=\"0\" width=\"607\" height=\"229\" fill=\"none\"></rect></clipPath></defs><rect fill=\"#ffffff\" class=\"highcharts-background\" x=\"0\" y=\"0\" width=\"698\" height=\"400\" rx=\"0\" ry=\"0\"></rect><rect fill=\"none\" class=\"highcharts-plot-background\" x=\"81\" y=\"71\" width=\"607\" height=\"229\"></rect><g class=\"highcharts-grid highcharts-xaxis-grid\" data-z-index=\"1\"><path fill=\"none\" data-z-index=\"1\" class=\"highcharts-grid-line\" d=\"M 84.5 71 L 84.5 300\" opacity=\"1\"></path><path fill=\"none\" data-z-index=\"1\" class=\"highcharts-grid-line\" d=\"M 108.5 71 L 108.5 300\" opacity=\"1\"></path><path fill=\"none\" data-z-index=\"1\" class=\"highcharts-grid-line\" d=\"M 131.5 71 L 131.5 300\" opacity=\"1\"></path><path fill=\"none\" data-z-index=\"1\" class=\"highcharts-grid-line\" d=\"M 155.5 71 L 155.5 300\" opacity=\"1\"></path><path fill=\"none\" data-z-index=\"1\" class=\"highcharts-grid-line\" d=\"M 179.5 71 L 179.5 300\" opacity=\"1\"></path><path fill=\"none\" data-z-index=\"1\" class=\"highcharts-grid-line\" d=\"M 202.5 71 L 202.5 300\" opacity=\"1\"></path><path fill=\"none\" data-z-index=\"1\" class=\"highcharts-grid-line\" d=\"M 226.5 71 L 226.5 300\" opacity=\"1\"></path><path fill=\"none\" data-z-index=\"1\" class=\"highcharts-grid-line\" d=\"M 249.5 71 L 249.5 300\" opacity=\"1\"></path><path fill=\"none\" data-z-index=\"1\" class=\"highcharts-grid-line\" d=\"M 273.5 71 L 273.5 300\" opacity=\"1\"></path><path fill=\"none\" data-z-index=\"1\" class=\"highcharts-grid-line\" d=\"M 297.5 71 L 297.5 300\" opacity=\"1\"></path><path fill=\"none\" data-z-index=\"1\" class=\"highcharts-grid-line\" d=\"M 320.5 71 L 320.5 300\" opacity=\"1\"></path><path fill=\"none\" data-z-index=\"1\" class=\"highcharts-grid-line\" d=\"M 344.5 71 L 344.5 300\" opacity=\"1\"></path><path fill=\"none\" data-z-index=\"1\" class=\"highcharts-grid-line\" d=\"M 368.5 71 L 368.5 300\" opacity=\"1\"></path><path fill=\"none\" data-z-index=\"1\" class=\"highcharts-grid-line\" d=\"M 391.5 71 L 391.5 300\" opacity=\"1\"></path><path fill=\"none\" data-z-index=\"1\" class=\"highcharts-grid-line\" d=\"M 415.5 71 L 415.5 300\" opacity=\"1\"></path><path fill=\"none\" data-z-index=\"1\" class=\"highcharts-grid-line\" d=\"M 439.5 71 L 439.5 300\" opacity=\"1\"></path><path fill=\"none\" data-z-index=\"1\" class=\"highcharts-grid-line\" d=\"M 462.5 71 L 462.5 300\" opacity=\"1\"></path><path fill=\"none\" data-z-index=\"1\" class=\"highcharts-grid-line\" d=\"M 486.5 71 L 486.5 300\" opacity=\"1\"></path><path fill=\"none\" data-z-index=\"1\" class=\"highcharts-grid-line\" d=\"M 510.5 71 L 510.5 300\" opacity=\"1\"></path><path fill=\"none\" data-z-index=\"1\" class=\"highcharts-grid-line\" d=\"M 533.5 71 L 533.5 300\" opacity=\"1\"></path><path fill=\"none\" data-z-index=\"1\" class=\"highcharts-grid-line\" d=\"M 557.5 71 L 557.5 300\" opacity=\"1\"></path><path fill=\"none\" data-z-index=\"1\" class=\"highcharts-grid-line\" d=\"M 581.5 71 L 581.5 300\" opacity=\"1\"></path><path fill=\"none\" data-z-index=\"1\" class=\"highcharts-grid-line\" d=\"M 604.5 71 L 604.5 300\" opacity=\"1\"></path><path fill=\"none\" data-z-index=\"1\" class=\"highcharts-grid-line\" d=\"M 628.5 71 L 628.5 300\" opacity=\"1\"></path><path fill=\"none\" data-z-index=\"1\" class=\"highcharts-grid-line\" d=\"M 652.5 71 L 652.5 300\" opacity=\"1\"></path><path fill=\"none\" data-z-index=\"1\" class=\"highcharts-grid-line\" d=\"M 675.5 71 L 675.5 300\" opacity=\"1\"></path></g><g class=\"highcharts-grid highcharts-yaxis-grid\" data-z-index=\"1\"><path fill=\"none\" stroke=\"#e6e6e6\" stroke-width=\"1\" data-z-index=\"1\" class=\"highcharts-grid-line\" d=\"M 81 300.5 L 688 300.5\" opacity=\"1\"></path><path fill=\"none\" stroke=\"#e6e6e6\" stroke-width=\"1\" data-z-index=\"1\" class=\"highcharts-grid-line\" d=\"M 81 243.5 L 688 243.5\" opacity=\"1\"></path><path fill=\"none\" stroke=\"#e6e6e6\" stroke-width=\"1\" data-z-index=\"1\" class=\"highcharts-grid-line\" d=\"M 81 186.5 L 688 186.5\" opacity=\"1\"></path><path fill=\"none\" stroke=\"#e6e6e6\" stroke-width=\"1\" data-z-index=\"1\" class=\"highcharts-grid-line\" d=\"M 81 128.5 L 688 128.5\" opacity=\"1\"></path><path fill=\"none\" stroke=\"#e6e6e6\" stroke-width=\"1\" data-z-index=\"1\" class=\"highcharts-grid-line\" d=\"M 81 70.5 L 688 70.5\" opacity=\"1\"></path></g><rect fill=\"none\" class=\"highcharts-plot-border\" data-z-index=\"1\" x=\"81\" y=\"71\" width=\"607\" height=\"229\"></rect><g class=\"highcharts-axis highcharts-xaxis\" data-z-index=\"2\"><path fill=\"none\" class=\"highcharts-axis-line\" stroke=\"#ccd6eb\" stroke-width=\"1\" data-z-index=\"7\" d=\"M 81 300.5 L 688 300.5\"></path></g><g class=\"highcharts-axis highcharts-yaxis\" data-z-index=\"2\"><text x=\"26.125\" data-z-index=\"7\" text-anchor=\"middle\" transform=\"translate(0,0) rotate(270 26.125 185.5)\" class=\"highcharts-axis-title\" style=\"color:#666666;fill:#666666;\" y=\"185.5\"><tspan>Total Coronavirus Cases</tspan></text><path fill=\"none\" class=\"highcharts-axis-line\" data-z-index=\"7\" d=\"M 81 71 L 81 300\"></path></g><g class=\"highcharts-series-group\" data-z-index=\"3\"><g data-z-index=\"0.1\" class=\"highcharts-series highcharts-series-0 highcharts-line-series\" transform=\"translate(81,71) scale(1 1)\" clip-path=\"url(#highcharts-b7z3tyw-242-)\"><path fill=\"none\" d=\"M 3.9415584415584 228.98626 L 11.824675324675 228.98626 L 19.707792207792 228.98626 L 27.590909090909 228.98626 L 35.474025974026 228.98626 L 43.357142857143 228.98626 L 51.24025974026 228.98626 L 59.123376623377 228.98626 L 67.006493506493 228.98626 L 74.88961038961 228.98626 L 82.772727272727 228.98397 L 90.655844155844 228.97939 L 98.538961038961 228.95649 L 106.42207792208 228.934735 L 114.30519480519 228.8855 L 122.18831168831 228.85115 L 130.07142857143 228.781305 L 137.95454545455 228.75726 L 145.83766233766 228.673675 L 153.72077922078 228.515665 L 161.6038961039 228.252315 L 169.48701298701 227.913395 L 177.37012987013 227.615695 L 185.25324675325 227.38326 L 193.13636363636 226.95732 L 201.01948051948 226.388255 L 208.9025974026 225.70698 L 216.78571428571 224.808155 L 224.66883116883 223.848645 L 232.55194805195 222.790665 L 240.43506493506 221.405215 L 248.31818181818 220.14915 L 256.2012987013 218.54157 L 264.08441558442 216.410725 L 271.96753246753 214.55926 L 279.85064935065 212.444445 L 287.73376623377 210.65939 L 295.61688311688 206.26488 L 303.5 203.46192 L 311.38311688312 200.108215 L 319.26623376623 195.617525 L 327.14935064935 191.25621999999998 L 335.03246753247 185.976625 L 342.91558441558 183.00077 L 350.7987012987 177.99025 L 358.68181818182 169.31344 L 366.56493506494 163.747595 L 374.44805194805 161.324775 L 382.33116883117 141.4533 L 390.21428571429 133.943245 L 398.0974025974 128.561745 L 405.98051948052 125.43246 L 413.86363636364 115.4389 L 421.74675324675 110.995155 L 429.62987012987 105.68808 L 437.51298701299 98.553585 L 445.3961038961 93.68619000000001 L 453.27922077922 90.875215 L 461.16233766234 86.67878999999999 L 469.04545454545 79.86031500000001 L 476.92857142857 75.97762 L 484.81168831169 67.81606 L 492.69480519481 65.13218 L 500.57792207792 60.93460999999999 L 508.46103896104 59.718620000000016 L 516.34415584416 56.93169 L 524.22727272727 53.20700500000001 L 532.11038961039 50.44412 L 539.99350649351 47.880465000000015 L 547.87662337662 45.996939999999995 L 555.75974025974 44.096239999999995 L 563.64285714286 43.3955 L 571.52597402597 42.052414999999996 L 579.40909090909 39.031904999999995 L 587.29220779221 38.449100000000016 L 595.17532467532 37.58118999999999 L 603.05844155844 37.38883000000001\" class=\"highcharts-graph\" data-z-index=\"1\" stroke=\"#33CCFF\" stroke-width=\"5\" stroke-linejoin=\"round\" stroke-linecap=\"round\"></path><path fill=\"none\" d=\"M -6.0584415584416 228.98626 L 3.9415584415584 228.98626 L 11.824675324675 228.98626 L 19.707792207792 228.98626 L 27.590909090909 228.98626 L 35.474025974026 228.98626 L 43.357142857143 228.98626 L 51.24025974026 228.98626 L 59.123376623377 228.98626 L 67.006493506493 228.98626 L 74.88961038961 228.98626 L 82.772727272727 228.98397 L 90.655844155844 228.97939 L 98.538961038961 228.95649 L 106.42207792208 228.934735 L 114.30519480519 228.8855 L 122.18831168831 228.85115 L 130.07142857143 228.781305 L 137.95454545455 228.75726 L 145.83766233766 228.673675 L 153.72077922078 228.515665 L 161.6038961039 228.252315 L 169.48701298701 227.913395 L 177.37012987013 227.615695 L 185.25324675325 227.38326 L 193.13636363636 226.95732 L 201.01948051948 226.388255 L 208.9025974026 225.70698 L 216.78571428571 224.808155 L 224.66883116883 223.848645 L 232.55194805195 222.790665 L 240.43506493506 221.405215 L 248.31818181818 220.14915 L 256.2012987013 218.54157 L 264.08441558442 216.410725 L 271.96753246753 214.55926 L 279.85064935065 212.444445 L 287.73376623377 210.65939 L 295.61688311688 206.26488 L 303.5 203.46192 L 311.38311688312 200.108215 L 319.26623376623 195.617525 L 327.14935064935 191.25621999999998 L 335.03246753247 185.976625 L 342.91558441558 183.00077 L 350.7987012987 177.99025 L 358.68181818182 169.31344 L 366.56493506494 163.747595 L 374.44805194805 161.324775 L 382.33116883117 141.4533 L 390.21428571429 133.943245 L 398.0974025974 128.561745 L 405.98051948052 125.43246 L 413.86363636364 115.4389 L 421.74675324675 110.995155 L 429.62987012987 105.68808 L 437.51298701299 98.553585 L 445.3961038961 93.68619000000001 L 453.27922077922 90.875215 L 461.16233766234 86.67878999999999 L 469.04545454545 79.86031500000001 L 476.92857142857 75.97762 L 484.81168831169 67.81606 L 492.69480519481 65.13218 L 500.57792207792 60.93460999999999 L 508.46103896104 59.718620000000016 L 516.34415584416 56.93169 L 524.22727272727 53.20700500000001 L 532.11038961039 50.44412 L 539.99350649351 47.880465000000015 L 547.87662337662 45.996939999999995 L 555.75974025974 44.096239999999995 L 563.64285714286 43.3955 L 571.52597402597 42.052414999999996 L 579.40909090909 39.031904999999995 L 587.29220779221 38.449100000000016 L 595.17532467532 37.58118999999999 L 603.05844155844 37.38883000000001 L 613.05844155844 37.38883000000001\" visibility=\"visible\" data-z-index=\"2\" class=\"highcharts-tracker-line\" stroke-linejoin=\"round\" stroke=\"rgba(192,192,192,0.0001)\" stroke-width=\"25\"></path></g><g data-z-index=\"0.1\" class=\"highcharts-markers highcharts-series-0 highcharts-line-series highcharts-tracker\" transform=\"translate(81,71) scale(1 1)\"></g></g><text x=\"349\" text-anchor=\"middle\" class=\"highcharts-title\" data-z-index=\"4\" style=\"color:#333333;font-size:18px;fill:#333333;\" y=\"24\"><tspan>Total Cases</tspan></text><text x=\"349\" text-anchor=\"middle\" class=\"highcharts-subtitle\" data-z-index=\"4\" style=\"color:#666666;fill:#666666;\" y=\"52\"><tspan>(Linear Scale)</tspan></text><text x=\"10\" text-anchor=\"start\" class=\"highcharts-caption\" data-z-index=\"4\" style=\"color:#666666;fill:#666666;\" y=\"397\"></text><g class=\"highcharts-axis-labels highcharts-xaxis-labels\" data-z-index=\"7\"><text x=\"87.53428330590867\" style=\"color:#666666;cursor:default;font-size:11px;fill:#666666;\" text-anchor=\"end\" transform=\"translate(0,0) rotate(-45 87.53428330590867 316)\" y=\"316\" opacity=\"1\"><tspan>Feb 15</tspan></text><text x=\"111.18363395526067\" style=\"color:#666666;cursor:default;font-size:11px;fill:#666666;\" text-anchor=\"end\" transform=\"translate(0,0) rotate(-45 111.18363395526067 316)\" y=\"316\" opacity=\"1\"><tspan>Feb 18</tspan></text><text x=\"134.8329846046107\" style=\"color:#666666;cursor:default;font-size:11px;fill:#666666;\" text-anchor=\"end\" transform=\"translate(0,0) rotate(-45 134.8329846046107 316)\" y=\"316\" opacity=\"1\"><tspan>Feb 21</tspan></text><text x=\"158.48233525396068\" style=\"color:#666666;cursor:default;font-size:11px;fill:#666666;\" text-anchor=\"end\" transform=\"translate(0,0) rotate(-45 158.48233525396068 316)\" y=\"316\" opacity=\"1\"><tspan>Feb 24</tspan></text><text x=\"182.13168590331068\" style=\"color:#666666;cursor:default;font-size:11px;fill:#666666;\" text-anchor=\"end\" transform=\"translate(0,0) rotate(-45 182.13168590331068 316)\" y=\"316\" opacity=\"1\"><tspan>Feb 27</tspan></text><text x=\"205.78103655266068\" style=\"color:#666666;cursor:default;font-size:11px;fill:#666666;\" text-anchor=\"end\" transform=\"translate(0,0) rotate(-45 205.78103655266068 316)\" y=\"316\" opacity=\"1\"><tspan>Mar 01</tspan></text><text x=\"229.43038720201068\" style=\"color:#666666;cursor:default;font-size:11px;fill:#666666;\" text-anchor=\"end\" transform=\"translate(0,0) rotate(-45 229.43038720201068 316)\" y=\"316\" opacity=\"1\"><tspan>Mar 04</tspan></text><text x=\"253.07973785136068\" style=\"color:#666666;cursor:default;font-size:11px;fill:#666666;\" text-anchor=\"end\" transform=\"translate(0,0) rotate(-45 253.07973785136068 316)\" y=\"316\" opacity=\"1\"><tspan>Mar 07</tspan></text><text x=\"276.72908850071065\" style=\"color:#666666;cursor:default;font-size:11px;fill:#666666;\" text-anchor=\"end\" transform=\"translate(0,0) rotate(-45 276.72908850071065 316)\" y=\"316\" opacity=\"1\"><tspan>Mar 10</tspan></text><text x=\"300.3784391500607\" style=\"color:#666666;cursor:default;font-size:11px;fill:#666666;\" text-anchor=\"end\" transform=\"translate(0,0) rotate(-45 300.3784391500607 316)\" y=\"316\" opacity=\"1\"><tspan>Mar 13</tspan></text><text x=\"324.02778979941064\" style=\"color:#666666;cursor:default;font-size:11px;fill:#666666;\" text-anchor=\"end\" transform=\"translate(0,0) rotate(-45 324.02778979941064 316)\" y=\"316\" opacity=\"1\"><tspan>Mar 16</tspan></text><text x=\"347.6771404487707\" style=\"color:#666666;cursor:default;font-size:11px;fill:#666666;\" text-anchor=\"end\" transform=\"translate(0,0) rotate(-45 347.6771404487707 316)\" y=\"316\" opacity=\"1\"><tspan>Mar 19</tspan></text><text x=\"371.32649109812064\" style=\"color:#666666;cursor:default;font-size:11px;fill:#666666;\" text-anchor=\"end\" transform=\"translate(0,0) rotate(-45 371.32649109812064 316)\" y=\"316\" opacity=\"1\"><tspan>Mar 22</tspan></text><text x=\"394.97584174747067\" style=\"color:#666666;cursor:default;font-size:11px;fill:#666666;\" text-anchor=\"end\" transform=\"translate(0,0) rotate(-45 394.97584174747067 316)\" y=\"316\" opacity=\"1\"><tspan>Mar 25</tspan></text><text x=\"418.62519239682064\" style=\"color:#666666;cursor:default;font-size:11px;fill:#666666;\" text-anchor=\"end\" transform=\"translate(0,0) rotate(-45 418.62519239682064 316)\" y=\"316\" opacity=\"1\"><tspan>Mar 28</tspan></text><text x=\"442.27454304617066\" style=\"color:#666666;cursor:default;font-size:11px;fill:#666666;\" text-anchor=\"end\" transform=\"translate(0,0) rotate(-45 442.27454304617066 316)\" y=\"316\" opacity=\"1\"><tspan>Mar 31</tspan></text><text x=\"465.92389369552063\" style=\"color:#666666;cursor:default;font-size:11px;fill:#666666;\" text-anchor=\"end\" transform=\"translate(0,0) rotate(-45 465.92389369552063 316)\" y=\"316\" opacity=\"1\"><tspan>Apr 03</tspan></text><text x=\"489.57324434487066\" style=\"color:#666666;cursor:default;font-size:11px;fill:#666666;\" text-anchor=\"end\" transform=\"translate(0,0) rotate(-45 489.57324434487066 316)\" y=\"316\" opacity=\"1\"><tspan>Apr 06</tspan></text><text x=\"513.2225949942207\" style=\"color:#666666;cursor:default;font-size:11px;fill:#666666;\" text-anchor=\"end\" transform=\"translate(0,0) rotate(-45 513.2225949942207 316)\" y=\"316\" opacity=\"1\"><tspan>Apr 09</tspan></text><text x=\"536.8719456435707\" style=\"color:#666666;cursor:default;font-size:11px;fill:#666666;\" text-anchor=\"end\" transform=\"translate(0,0) rotate(-45 536.8719456435707 316)\" y=\"316\" opacity=\"1\"><tspan>Apr 12</tspan></text><text x=\"560.5212962929206\" style=\"color:#666666;cursor:default;font-size:11px;fill:#666666;\" text-anchor=\"end\" transform=\"translate(0,0) rotate(-45 560.5212962929206 316)\" y=\"316\" opacity=\"1\"><tspan>Apr 15</tspan></text><text x=\"584.1706469422707\" style=\"color:#666666;cursor:default;font-size:11px;fill:#666666;\" text-anchor=\"end\" transform=\"translate(0,0) rotate(-45 584.1706469422707 316)\" y=\"316\" opacity=\"1\"><tspan>Apr 18</tspan></text><text x=\"607.8199975916207\" style=\"color:#666666;cursor:default;font-size:11px;fill:#666666;\" text-anchor=\"end\" transform=\"translate(0,0) rotate(-45 607.8199975916207 316)\" y=\"316\" opacity=\"1\"><tspan>Apr 21</tspan></text><text x=\"631.4693482409707\" style=\"color:#666666;cursor:default;font-size:11px;fill:#666666;\" text-anchor=\"end\" transform=\"translate(0,0) rotate(-45 631.4693482409707 316)\" y=\"316\" opacity=\"1\"><tspan>Apr 24</tspan></text><text x=\"655.1186988903206\" style=\"color:#666666;cursor:default;font-size:11px;fill:#666666;\" text-anchor=\"end\" transform=\"translate(0,0) rotate(-45 655.1186988903206 316)\" y=\"316\" opacity=\"1\"><tspan>Apr 27</tspan></text><text x=\"678.7680495396706\" style=\"color:#666666;cursor:default;font-size:11px;fill:#666666;\" text-anchor=\"end\" transform=\"translate(0,0) rotate(-45 678.7680495396706 316)\" y=\"316\" opacity=\"1\"><tspan>Apr 30</tspan></text></g><g class=\"highcharts-axis-labels highcharts-yaxis-labels\" data-z-index=\"7\"><text x=\"66\" style=\"color:#666666;cursor:default;font-size:11px;fill:#666666;\" text-anchor=\"end\" transform=\"translate(0,0)\" y=\"304\" opacity=\"1\">0</text><text x=\"66\" style=\"color:#666666;cursor:default;font-size:11px;fill:#666666;\" text-anchor=\"end\" transform=\"translate(0,0)\" y=\"247\" opacity=\"1\">50k</text><text x=\"66\" style=\"color:#666666;cursor:default;font-size:11px;fill:#666666;\" text-anchor=\"end\" transform=\"translate(0,0)\" y=\"190\" opacity=\"1\">100k</text><text x=\"66\" style=\"color:#666666;cursor:default;font-size:11px;fill:#666666;\" text-anchor=\"end\" transform=\"translate(0,0)\" y=\"132\" opacity=\"1\">150k</text><text x=\"66\" style=\"color:#666666;cursor:default;font-size:11px;fill:#666666;\" text-anchor=\"end\" transform=\"translate(0,0)\" y=\"75\" opacity=\"1\">200k</text></g><g class=\"highcharts-legend\" data-z-index=\"7\" transform=\"translate(313,356)\"><rect fill=\"none\" class=\"highcharts-legend-box\" rx=\"0\" ry=\"0\" x=\"0\" y=\"0\" width=\"72\" height=\"29\" visibility=\"visible\"></rect><g data-z-index=\"1\"><g><g class=\"highcharts-legend-item highcharts-line-series highcharts-color-undefined highcharts-series-0\" data-z-index=\"1\" transform=\"translate(8,3)\"><path fill=\"none\" d=\"M 0 11 L 16 11\" class=\"highcharts-graph\" stroke=\"#33CCFF\" stroke-width=\"5\"></path><path fill=\"#33CCFF\" d=\"M 8 15 A 4 4 0 1 1 8.003999999333336 14.999998000000167 Z\" class=\"highcharts-point\" opacity=\"1\"></path><text x=\"21\" style=\"color:#333333;cursor:pointer;font-size:12px;font-weight:bold;fill:#333333;\" text-anchor=\"start\" data-z-index=\"2\" y=\"15\"><tspan>Cases</tspan></text></g></g></g></g></svg></div></div>\n",
      "<div class=\"tab-pane\" id=\"coronavirus-cases-log\" data-highcharts-chart=\"3\" style=\"\"><div id=\"highcharts-b7z3tyw-323\" dir=\"ltr\" class=\"highcharts-container \" style=\"position: relative; overflow: hidden; width: 698px; height: 400px; text-align: left; line-height: normal; z-index: 0; -webkit-tap-highlight-color: rgba(0, 0, 0, 0);\"><svg version=\"1.1\" class=\"highcharts-root\" style=\"font-family:&quot;Lucida Grande&quot;, &quot;Lucida Sans Unicode&quot;, Arial, Helvetica, sans-serif;font-size:12px;\" xmlns=\"http://www.w3.org/2000/svg\" width=\"698\" height=\"400\" viewBox=\"0 0 698 400\"><desc>Created with Highcharts 8.0.4</desc><defs><clipPath id=\"highcharts-b7z3tyw-324-\"><rect x=\"0\" y=\"0\" width=\"607\" height=\"229\" fill=\"none\"></rect></clipPath></defs><rect fill=\"#ffffff\" class=\"highcharts-background\" x=\"0\" y=\"0\" width=\"698\" height=\"400\" rx=\"0\" ry=\"0\"></rect><rect fill=\"none\" class=\"highcharts-plot-background\" x=\"81\" y=\"71\" width=\"607\" height=\"229\"></rect><g class=\"highcharts-grid highcharts-xaxis-grid\" data-z-index=\"1\"><path fill=\"none\" data-z-index=\"1\" class=\"highcharts-grid-line\" d=\"M 84.5 71 L 84.5 300\" opacity=\"1\"></path><path fill=\"none\" data-z-index=\"1\" class=\"highcharts-grid-line\" d=\"M 108.5 71 L 108.5 300\" opacity=\"1\"></path><path fill=\"none\" data-z-index=\"1\" class=\"highcharts-grid-line\" d=\"M 131.5 71 L 131.5 300\" opacity=\"1\"></path><path fill=\"none\" data-z-index=\"1\" class=\"highcharts-grid-line\" d=\"M 155.5 71 L 155.5 300\" opacity=\"1\"></path><path fill=\"none\" data-z-index=\"1\" class=\"highcharts-grid-line\" d=\"M 179.5 71 L 179.5 300\" opacity=\"1\"></path><path fill=\"none\" data-z-index=\"1\" class=\"highcharts-grid-line\" d=\"M 202.5 71 L 202.5 300\" opacity=\"1\"></path><path fill=\"none\" data-z-index=\"1\" class=\"highcharts-grid-line\" d=\"M 226.5 71 L 226.5 300\" opacity=\"1\"></path><path fill=\"none\" data-z-index=\"1\" class=\"highcharts-grid-line\" d=\"M 249.5 71 L 249.5 300\" opacity=\"1\"></path><path fill=\"none\" data-z-index=\"1\" class=\"highcharts-grid-line\" d=\"M 273.5 71 L 273.5 300\" opacity=\"1\"></path><path fill=\"none\" data-z-index=\"1\" class=\"highcharts-grid-line\" d=\"M 297.5 71 L 297.5 300\" opacity=\"1\"></path><path fill=\"none\" data-z-index=\"1\" class=\"highcharts-grid-line\" d=\"M 320.5 71 L 320.5 300\" opacity=\"1\"></path><path fill=\"none\" data-z-index=\"1\" class=\"highcharts-grid-line\" d=\"M 344.5 71 L 344.5 300\" opacity=\"1\"></path><path fill=\"none\" data-z-index=\"1\" class=\"highcharts-grid-line\" d=\"M 368.5 71 L 368.5 300\" opacity=\"1\"></path><path fill=\"none\" data-z-index=\"1\" class=\"highcharts-grid-line\" d=\"M 391.5 71 L 391.5 300\" opacity=\"1\"></path><path fill=\"none\" data-z-index=\"1\" class=\"highcharts-grid-line\" d=\"M 415.5 71 L 415.5 300\" opacity=\"1\"></path><path fill=\"none\" data-z-index=\"1\" class=\"highcharts-grid-line\" d=\"M 439.5 71 L 439.5 300\" opacity=\"1\"></path><path fill=\"none\" data-z-index=\"1\" class=\"highcharts-grid-line\" d=\"M 462.5 71 L 462.5 300\" opacity=\"1\"></path><path fill=\"none\" data-z-index=\"1\" class=\"highcharts-grid-line\" d=\"M 486.5 71 L 486.5 300\" opacity=\"1\"></path><path fill=\"none\" data-z-index=\"1\" class=\"highcharts-grid-line\" d=\"M 510.5 71 L 510.5 300\" opacity=\"1\"></path><path fill=\"none\" data-z-index=\"1\" class=\"highcharts-grid-line\" d=\"M 533.5 71 L 533.5 300\" opacity=\"1\"></path><path fill=\"none\" data-z-index=\"1\" class=\"highcharts-grid-line\" d=\"M 557.5 71 L 557.5 300\" opacity=\"1\"></path><path fill=\"none\" data-z-index=\"1\" class=\"highcharts-grid-line\" d=\"M 581.5 71 L 581.5 300\" opacity=\"1\"></path><path fill=\"none\" data-z-index=\"1\" class=\"highcharts-grid-line\" d=\"M 604.5 71 L 604.5 300\" opacity=\"1\"></path><path fill=\"none\" data-z-index=\"1\" class=\"highcharts-grid-line\" d=\"M 628.5 71 L 628.5 300\" opacity=\"1\"></path><path fill=\"none\" data-z-index=\"1\" class=\"highcharts-grid-line\" d=\"M 652.5 71 L 652.5 300\" opacity=\"1\"></path><path fill=\"none\" data-z-index=\"1\" class=\"highcharts-grid-line\" d=\"M 675.5 71 L 675.5 300\" opacity=\"1\"></path></g><g class=\"highcharts-grid highcharts-yaxis-grid\" data-z-index=\"1\"><path fill=\"none\" stroke=\"#e6e6e6\" stroke-width=\"1\" data-z-index=\"1\" class=\"highcharts-grid-line\" d=\"M 81 300.5 L 688 300.5\" opacity=\"1\"></path><path fill=\"none\" stroke=\"#e6e6e6\" stroke-width=\"1\" data-z-index=\"1\" class=\"highcharts-grid-line\" d=\"M 81 262.5 L 688 262.5\" opacity=\"1\"></path><path fill=\"none\" stroke=\"#e6e6e6\" stroke-width=\"1\" data-z-index=\"1\" class=\"highcharts-grid-line\" d=\"M 81 224.5 L 688 224.5\" opacity=\"1\"></path><path fill=\"none\" stroke=\"#e6e6e6\" stroke-width=\"1\" data-z-index=\"1\" class=\"highcharts-grid-line\" d=\"M 81 186.5 L 688 186.5\" opacity=\"1\"></path><path fill=\"none\" stroke=\"#e6e6e6\" stroke-width=\"1\" data-z-index=\"1\" class=\"highcharts-grid-line\" d=\"M 81 147.5 L 688 147.5\" opacity=\"1\"></path><path fill=\"none\" stroke=\"#e6e6e6\" stroke-width=\"1\" data-z-index=\"1\" class=\"highcharts-grid-line\" d=\"M 81 109.5 L 688 109.5\" opacity=\"1\"></path><path fill=\"none\" stroke=\"#e6e6e6\" stroke-width=\"1\" data-z-index=\"1\" class=\"highcharts-grid-line\" d=\"M 81 70.5 L 688 70.5\" opacity=\"1\"></path></g><rect fill=\"none\" class=\"highcharts-plot-border\" data-z-index=\"1\" x=\"81\" y=\"71\" width=\"607\" height=\"229\"></rect><g class=\"highcharts-axis highcharts-xaxis\" data-z-index=\"2\"><path fill=\"none\" class=\"highcharts-axis-line\" stroke=\"#ccd6eb\" stroke-width=\"1\" data-z-index=\"7\" d=\"M 81 300.5 L 688 300.5\"></path></g><g class=\"highcharts-axis highcharts-yaxis\" data-z-index=\"2\"><text x=\"26.125\" data-z-index=\"7\" text-anchor=\"middle\" transform=\"translate(0,0) rotate(270 26.125 185.5)\" class=\"highcharts-axis-title\" style=\"color:#666666;fill:#666666;\" y=\"185.5\"><tspan>Total Coronavirus Cases</tspan></text><path fill=\"none\" class=\"highcharts-axis-line\" data-z-index=\"7\" d=\"M 81 71 L 81 300\"></path></g><g class=\"highcharts-series-group\" data-z-index=\"3\"><g data-z-index=\"0.1\" class=\"highcharts-series highcharts-series-0 highcharts-line-series\" transform=\"translate(81,71) scale(1 1)\" clip-path=\"url(#highcharts-b7z3tyw-324-)\"><path fill=\"none\" d=\"M 3.9415584415584 187.8112491091823 L 11.824675324675 187.8112491091823 L 19.707792207792 187.8112491091823 L 27.590909090909 187.8112491091823 L 35.474025974026 187.8112491091823 L 43.357142857143 187.8112491091823 L 51.24025974026 187.8112491091823 L 59.123376623377 187.8112491091823 L 67.006493506493 187.8112491091823 L 74.88961038961 187.8112491091823 L 82.772727272727 185.25611330494726 L 90.655844155844 181.0904327218905 L 98.538961038961 168.7049260624584 L 106.42207792208 161.9841096751666 L 114.30519480519 152.66666666666669 L 122.18831168831 148.31782872028907 L 130.07142857143 141.94055981671175 L 137.95454545455 140.21151464121934 L 145.83766233766 135.30675450967522 L 153.72077922078 128.7613426451859 L 161.6038961039 121.56414691466802 L 169.48701298701 115.36767289235834 L 177.37012987013 111.35406285048056 L 185.25324675325 108.78130907534756 L 193.13636363636 104.9050965568027 L 201.01948051948 100.83155161194128 L 208.9025974026 96.98955768136943 L 216.78571428571 92.98927701435491 L 224.66883116883 89.57273959418089 L 232.55194805195 86.47652176404682 L 240.43506493506 83.13806843644534 L 248.31818181818 80.60114931545061 L 256.2012987013 77.8347715558242 L 264.08441558442 74.76104858057181 L 271.96753246753 72.48674544743776 L 279.85064935065 70.2213898302235 L 287.73376623377 68.52411695735148 L 295.61688311688 64.96379766809738 L 303.5 63.03672479671624 L 311.38311688312 60.9915207862999 L 319.26623376623 58.59678542027211 L 327.14935064935 56.5614769412976 L 335.03246753247 54.39135524328361 L 342.91558441558 53.28276296194656 L 350.7987012987 51.5689791304346 L 358.68181818182 48.96512110968217 L 366.56493506494 47.48730877859853 L 374.44805194805 46.883008872964496 L 382.33116883117 42.61559112443183 L 390.21428571429 41.251392166998954 L 398.0974025974 40.33859151638512 L 405.98051948052 39.83003968991804 L 413.86363636364 38.303146699047375 L 421.74675324675 37.66689889480665 L 429.62987012987 36.937716289049746 L 437.51298701299 36.0054157563784 L 445.3961038961 35.39818506431567 L 453.27922077922 35.057376101428105 L 461.16233766234 34.56128529502166 L 469.04545454545 33.78560145512239 L 476.92857142857 33.359595392127005 L 484.81168831169 32.498295281366325 L 492.69480519481 32.22456743492461 L 500.57792207792 31.805321430482252 L 508.46103896104 31.685825293177032 L 516.34415584416 31.415158650055616 L 524.22727272727 31.060182998638027 L 532.11038961039 30.80169576997332 L 539.99350649351 30.56540066739646 L 547.87662337662 30.393915653755244 L 555.75974025974 30.222646899466838 L 563.64285714286 30.15994826661506 L 571.52597402597 30.040434778769054 L 579.40909090909 29.774763926438453 L 587.29220779221 29.723989408775537 L 595.17532467532 29.64866338314613 L 603.05844155844 29.63201467362407\" class=\"highcharts-graph\" data-z-index=\"1\" stroke=\"#33CCFF\" stroke-width=\"5\" stroke-linejoin=\"round\" stroke-linecap=\"round\"></path><path fill=\"none\" d=\"M -6.0584415584416 187.8112491091823 L 3.9415584415584 187.8112491091823 L 11.824675324675 187.8112491091823 L 19.707792207792 187.8112491091823 L 27.590909090909 187.8112491091823 L 35.474025974026 187.8112491091823 L 43.357142857143 187.8112491091823 L 51.24025974026 187.8112491091823 L 59.123376623377 187.8112491091823 L 67.006493506493 187.8112491091823 L 74.88961038961 187.8112491091823 L 82.772727272727 185.25611330494726 L 90.655844155844 181.0904327218905 L 98.538961038961 168.7049260624584 L 106.42207792208 161.9841096751666 L 114.30519480519 152.66666666666669 L 122.18831168831 148.31782872028907 L 130.07142857143 141.94055981671175 L 137.95454545455 140.21151464121934 L 145.83766233766 135.30675450967522 L 153.72077922078 128.7613426451859 L 161.6038961039 121.56414691466802 L 169.48701298701 115.36767289235834 L 177.37012987013 111.35406285048056 L 185.25324675325 108.78130907534756 L 193.13636363636 104.9050965568027 L 201.01948051948 100.83155161194128 L 208.9025974026 96.98955768136943 L 216.78571428571 92.98927701435491 L 224.66883116883 89.57273959418089 L 232.55194805195 86.47652176404682 L 240.43506493506 83.13806843644534 L 248.31818181818 80.60114931545061 L 256.2012987013 77.8347715558242 L 264.08441558442 74.76104858057181 L 271.96753246753 72.48674544743776 L 279.85064935065 70.2213898302235 L 287.73376623377 68.52411695735148 L 295.61688311688 64.96379766809738 L 303.5 63.03672479671624 L 311.38311688312 60.9915207862999 L 319.26623376623 58.59678542027211 L 327.14935064935 56.5614769412976 L 335.03246753247 54.39135524328361 L 342.91558441558 53.28276296194656 L 350.7987012987 51.5689791304346 L 358.68181818182 48.96512110968217 L 366.56493506494 47.48730877859853 L 374.44805194805 46.883008872964496 L 382.33116883117 42.61559112443183 L 390.21428571429 41.251392166998954 L 398.0974025974 40.33859151638512 L 405.98051948052 39.83003968991804 L 413.86363636364 38.303146699047375 L 421.74675324675 37.66689889480665 L 429.62987012987 36.937716289049746 L 437.51298701299 36.0054157563784 L 445.3961038961 35.39818506431567 L 453.27922077922 35.057376101428105 L 461.16233766234 34.56128529502166 L 469.04545454545 33.78560145512239 L 476.92857142857 33.359595392127005 L 484.81168831169 32.498295281366325 L 492.69480519481 32.22456743492461 L 500.57792207792 31.805321430482252 L 508.46103896104 31.685825293177032 L 516.34415584416 31.415158650055616 L 524.22727272727 31.060182998638027 L 532.11038961039 30.80169576997332 L 539.99350649351 30.56540066739646 L 547.87662337662 30.393915653755244 L 555.75974025974 30.222646899466838 L 563.64285714286 30.15994826661506 L 571.52597402597 30.040434778769054 L 579.40909090909 29.774763926438453 L 587.29220779221 29.723989408775537 L 595.17532467532 29.64866338314613 L 603.05844155844 29.63201467362407 L 613.05844155844 29.63201467362407\" visibility=\"visible\" data-z-index=\"2\" class=\"highcharts-tracker-line\" stroke-linejoin=\"round\" stroke=\"rgba(192,192,192,0.0001)\" stroke-width=\"25\"></path></g><g data-z-index=\"0.1\" class=\"highcharts-markers highcharts-series-0 highcharts-line-series highcharts-tracker\" transform=\"translate(81,71) scale(1 1)\"></g></g><text x=\"349\" text-anchor=\"middle\" class=\"highcharts-title\" data-z-index=\"4\" style=\"color:#333333;font-size:18px;fill:#333333;\" y=\"24\"><tspan>Total Cases</tspan></text><text x=\"349\" text-anchor=\"middle\" class=\"highcharts-subtitle\" data-z-index=\"4\" style=\"color:#666666;fill:#666666;\" y=\"52\"><tspan>(Logarithmic Scale)</tspan></text><text x=\"10\" text-anchor=\"start\" class=\"highcharts-caption\" data-z-index=\"4\" style=\"color:#666666;fill:#666666;\" y=\"397\"></text><g class=\"highcharts-axis-labels highcharts-xaxis-labels\" data-z-index=\"7\"><text x=\"87.53428330590867\" style=\"color:#666666;cursor:default;font-size:11px;fill:#666666;\" text-anchor=\"end\" transform=\"translate(0,0) rotate(-45 87.53428330590867 316)\" y=\"316\" opacity=\"1\"><tspan>Feb 15</tspan></text><text x=\"111.18363395526067\" style=\"color:#666666;cursor:default;font-size:11px;fill:#666666;\" text-anchor=\"end\" transform=\"translate(0,0) rotate(-45 111.18363395526067 316)\" y=\"316\" opacity=\"1\"><tspan>Feb 18</tspan></text><text x=\"134.8329846046107\" style=\"color:#666666;cursor:default;font-size:11px;fill:#666666;\" text-anchor=\"end\" transform=\"translate(0,0) rotate(-45 134.8329846046107 316)\" y=\"316\" opacity=\"1\"><tspan>Feb 21</tspan></text><text x=\"158.48233525396068\" style=\"color:#666666;cursor:default;font-size:11px;fill:#666666;\" text-anchor=\"end\" transform=\"translate(0,0) rotate(-45 158.48233525396068 316)\" y=\"316\" opacity=\"1\"><tspan>Feb 24</tspan></text><text x=\"182.13168590331068\" style=\"color:#666666;cursor:default;font-size:11px;fill:#666666;\" text-anchor=\"end\" transform=\"translate(0,0) rotate(-45 182.13168590331068 316)\" y=\"316\" opacity=\"1\"><tspan>Feb 27</tspan></text><text x=\"205.78103655266068\" style=\"color:#666666;cursor:default;font-size:11px;fill:#666666;\" text-anchor=\"end\" transform=\"translate(0,0) rotate(-45 205.78103655266068 316)\" y=\"316\" opacity=\"1\"><tspan>Mar 01</tspan></text><text x=\"229.43038720201068\" style=\"color:#666666;cursor:default;font-size:11px;fill:#666666;\" text-anchor=\"end\" transform=\"translate(0,0) rotate(-45 229.43038720201068 316)\" y=\"316\" opacity=\"1\"><tspan>Mar 04</tspan></text><text x=\"253.07973785136068\" style=\"color:#666666;cursor:default;font-size:11px;fill:#666666;\" text-anchor=\"end\" transform=\"translate(0,0) rotate(-45 253.07973785136068 316)\" y=\"316\" opacity=\"1\"><tspan>Mar 07</tspan></text><text x=\"276.72908850071065\" style=\"color:#666666;cursor:default;font-size:11px;fill:#666666;\" text-anchor=\"end\" transform=\"translate(0,0) rotate(-45 276.72908850071065 316)\" y=\"316\" opacity=\"1\"><tspan>Mar 10</tspan></text><text x=\"300.3784391500607\" style=\"color:#666666;cursor:default;font-size:11px;fill:#666666;\" text-anchor=\"end\" transform=\"translate(0,0) rotate(-45 300.3784391500607 316)\" y=\"316\" opacity=\"1\"><tspan>Mar 13</tspan></text><text x=\"324.02778979941064\" style=\"color:#666666;cursor:default;font-size:11px;fill:#666666;\" text-anchor=\"end\" transform=\"translate(0,0) rotate(-45 324.02778979941064 316)\" y=\"316\" opacity=\"1\"><tspan>Mar 16</tspan></text><text x=\"347.6771404487707\" style=\"color:#666666;cursor:default;font-size:11px;fill:#666666;\" text-anchor=\"end\" transform=\"translate(0,0) rotate(-45 347.6771404487707 316)\" y=\"316\" opacity=\"1\"><tspan>Mar 19</tspan></text><text x=\"371.32649109812064\" style=\"color:#666666;cursor:default;font-size:11px;fill:#666666;\" text-anchor=\"end\" transform=\"translate(0,0) rotate(-45 371.32649109812064 316)\" y=\"316\" opacity=\"1\"><tspan>Mar 22</tspan></text><text x=\"394.97584174747067\" style=\"color:#666666;cursor:default;font-size:11px;fill:#666666;\" text-anchor=\"end\" transform=\"translate(0,0) rotate(-45 394.97584174747067 316)\" y=\"316\" opacity=\"1\"><tspan>Mar 25</tspan></text><text x=\"418.62519239682064\" style=\"color:#666666;cursor:default;font-size:11px;fill:#666666;\" text-anchor=\"end\" transform=\"translate(0,0) rotate(-45 418.62519239682064 316)\" y=\"316\" opacity=\"1\"><tspan>Mar 28</tspan></text><text x=\"442.27454304617066\" style=\"color:#666666;cursor:default;font-size:11px;fill:#666666;\" text-anchor=\"end\" transform=\"translate(0,0) rotate(-45 442.27454304617066 316)\" y=\"316\" opacity=\"1\"><tspan>Mar 31</tspan></text><text x=\"465.92389369552063\" style=\"color:#666666;cursor:default;font-size:11px;fill:#666666;\" text-anchor=\"end\" transform=\"translate(0,0) rotate(-45 465.92389369552063 316)\" y=\"316\" opacity=\"1\"><tspan>Apr 03</tspan></text><text x=\"489.57324434487066\" style=\"color:#666666;cursor:default;font-size:11px;fill:#666666;\" text-anchor=\"end\" transform=\"translate(0,0) rotate(-45 489.57324434487066 316)\" y=\"316\" opacity=\"1\"><tspan>Apr 06</tspan></text><text x=\"513.2225949942207\" style=\"color:#666666;cursor:default;font-size:11px;fill:#666666;\" text-anchor=\"end\" transform=\"translate(0,0) rotate(-45 513.2225949942207 316)\" y=\"316\" opacity=\"1\"><tspan>Apr 09</tspan></text><text x=\"536.8719456435707\" style=\"color:#666666;cursor:default;font-size:11px;fill:#666666;\" text-anchor=\"end\" transform=\"translate(0,0) rotate(-45 536.8719456435707 316)\" y=\"316\" opacity=\"1\"><tspan>Apr 12</tspan></text><text x=\"560.5212962929206\" style=\"color:#666666;cursor:default;font-size:11px;fill:#666666;\" text-anchor=\"end\" transform=\"translate(0,0) rotate(-45 560.5212962929206 316)\" y=\"316\" opacity=\"1\"><tspan>Apr 15</tspan></text><text x=\"584.1706469422707\" style=\"color:#666666;cursor:default;font-size:11px;fill:#666666;\" text-anchor=\"end\" transform=\"translate(0,0) rotate(-45 584.1706469422707 316)\" y=\"316\" opacity=\"1\"><tspan>Apr 18</tspan></text><text x=\"607.8199975916207\" style=\"color:#666666;cursor:default;font-size:11px;fill:#666666;\" text-anchor=\"end\" transform=\"translate(0,0) rotate(-45 607.8199975916207 316)\" y=\"316\" opacity=\"1\"><tspan>Apr 21</tspan></text><text x=\"631.4693482409707\" style=\"color:#666666;cursor:default;font-size:11px;fill:#666666;\" text-anchor=\"end\" transform=\"translate(0,0) rotate(-45 631.4693482409707 316)\" y=\"316\" opacity=\"1\"><tspan>Apr 24</tspan></text><text x=\"655.1186988903206\" style=\"color:#666666;cursor:default;font-size:11px;fill:#666666;\" text-anchor=\"end\" transform=\"translate(0,0) rotate(-45 655.1186988903206 316)\" y=\"316\" opacity=\"1\"><tspan>Apr 27</tspan></text><text x=\"678.7680495396706\" style=\"color:#666666;cursor:default;font-size:11px;fill:#666666;\" text-anchor=\"end\" transform=\"translate(0,0) rotate(-45 678.7680495396706 316)\" y=\"316\" opacity=\"1\"><tspan>Apr 30</tspan></text></g><g class=\"highcharts-axis-labels highcharts-yaxis-labels\" data-z-index=\"7\"><text x=\"66\" style=\"color:#666666;cursor:default;font-size:11px;fill:#666666;\" text-anchor=\"end\" transform=\"translate(0,0)\" y=\"304\" opacity=\"1\">1</text><text x=\"66\" style=\"color:#666666;cursor:default;font-size:11px;fill:#666666;\" text-anchor=\"end\" transform=\"translate(0,0)\" y=\"266\" opacity=\"1\">10</text><text x=\"66\" style=\"color:#666666;cursor:default;font-size:11px;fill:#666666;\" text-anchor=\"end\" transform=\"translate(0,0)\" y=\"228\" opacity=\"1\">100</text><text x=\"66\" style=\"color:#666666;cursor:default;font-size:11px;fill:#666666;\" text-anchor=\"end\" transform=\"translate(0,0)\" y=\"190\" opacity=\"1\">1k</text><text x=\"66\" style=\"color:#666666;cursor:default;font-size:11px;fill:#666666;\" text-anchor=\"end\" transform=\"translate(0,0)\" y=\"151\" opacity=\"1\">10k</text><text x=\"66\" style=\"color:#666666;cursor:default;font-size:11px;fill:#666666;\" text-anchor=\"end\" transform=\"translate(0,0)\" y=\"113\" opacity=\"1\">100k</text><text x=\"66\" style=\"color:#666666;cursor:default;font-size:11px;fill:#666666;\" text-anchor=\"end\" transform=\"translate(0,0)\" y=\"75\" opacity=\"1\">1M</text></g><g class=\"highcharts-legend\" data-z-index=\"7\" transform=\"translate(313,356)\"><rect fill=\"none\" class=\"highcharts-legend-box\" rx=\"0\" ry=\"0\" x=\"0\" y=\"0\" width=\"72\" height=\"29\" visibility=\"visible\"></rect><g data-z-index=\"1\"><g><g class=\"highcharts-legend-item highcharts-line-series highcharts-color-undefined highcharts-series-0\" data-z-index=\"1\" transform=\"translate(8,3)\"><path fill=\"none\" d=\"M 0 11 L 16 11\" class=\"highcharts-graph\" stroke=\"#33CCFF\" stroke-width=\"5\"></path><path fill=\"#33CCFF\" d=\"M 8 15 A 4 4 0 1 1 8.003999999333336 14.999998000000167 Z\" class=\"highcharts-point\" opacity=\"1\"></path><text x=\"21\" style=\"color:#333333;cursor:pointer;font-size:12px;font-weight:bold;fill:#333333;\" text-anchor=\"start\" data-z-index=\"2\" y=\"15\"><tspan>Cases</tspan></text></g></g></g></g></svg></div></div>\n",
      "</div>\n",
      "</div>\n",
      "</div>\n",
      "<script type=\"text/javascript\">\n",
      "    Highcharts.chart('coronavirus-cases-linear', {\n",
      "        chart: {\n",
      "            type: 'line'\n",
      "        },\n",
      "        title: {\n",
      "            text: 'Total Cases'\n",
      "        },\n",
      "\n",
      "        subtitle: {\n",
      "            text: '(Linear Scale)'\n",
      "        },\n",
      "\n",
      "        xAxis: {\n",
      "            categories: [\"Feb 15\",\"Feb 16\",\"Feb 17\",\"Feb 18\",\"Feb 19\",\"Feb 20\",\"Feb 21\",\"Feb 22\",\"Feb 23\",\"Feb 24\",\"Feb 25\",\"Feb 26\",\"Feb 27\",\"Feb 28\",\"Feb 29\",\"Mar 01\",\"Mar 02\",\"Mar 03\",\"Mar 04\",\"Mar 05\",\"Mar 06\",\"Mar 07\",\"Mar 08\",\"Mar 09\",\"Mar 10\",\"Mar 11\",\"Mar 12\",\"Mar 13\",\"Mar 14\",\"Mar 15\",\"Mar 16\",\"Mar 17\",\"Mar 18\",\"Mar 19\",\"Mar 20\",\"Mar 21\",\"Mar 22\",\"Mar 23\",\"Mar 24\",\"Mar 25\",\"Mar 26\",\"Mar 27\",\"Mar 28\",\"Mar 29\",\"Mar 30\",\"Mar 31\",\"Apr 01\",\"Apr 02\",\"Apr 03\",\"Apr 04\",\"Apr 05\",\"Apr 06\",\"Apr 07\",\"Apr 08\",\"Apr 09\",\"Apr 10\",\"Apr 11\",\"Apr 12\",\"Apr 13\",\"Apr 14\",\"Apr 15\",\"Apr 16\",\"Apr 17\",\"Apr 18\",\"Apr 19\",\"Apr 20\",\"Apr 21\",\"Apr 22\",\"Apr 23\",\"Apr 24\",\"Apr 25\",\"Apr 26\",\"Apr 27\",\"Apr 28\",\"Apr 29\",\"Apr 30\",\"May 01\"]        },\n",
      "\n",
      "        yAxis: {\n",
      "            title: {\n",
      "                text: 'Total Coronavirus Cases'\n",
      "            }\n",
      "\n",
      "\n",
      "        },\n",
      "        legend: {\n",
      "            layout: 'vertical',\n",
      "            align: 'right',\n",
      "            verticalAlign: 'middle'\n",
      "        },\n",
      "\n",
      "        credits: {\n",
      "            enabled: false\n",
      "        },\n",
      "\n",
      "\n",
      "        series: [{\n",
      "            name: 'Cases',\n",
      "            color: '#33CCFF',\n",
      "            lineWidth: 5,\n",
      "            data: [12,12,12,12,12,12,12,12,12,12,14,18,38,57,100,130,191,212,285,423,653,949,1209,1412,1784,2281,2876,3661,4499,5423,6633,7730,9134,10995,12612,14459,16018,19856,22304,25233,29155,32964,37575,40174,44550,52128,56989,59105,76460,83019,87719,90452,99180,103061,107696,113927,118178,120633,124298,130253,133644,140772,143116,146782,147844,150278,153531,155944,158183,159828,161488,162100,163273,165911,166420,167178,167346]        }],\n",
      "\n",
      "        responsive: {\n",
      "            rules: [{\n",
      "                condition: {\n",
      "                    maxWidth: 800\n",
      "                },\n",
      "                chartOptions: {\n",
      "                    legend: {\n",
      "                        layout: 'horizontal',\n",
      "                        align: 'center',\n",
      "                        verticalAlign: 'bottom'\n",
      "                    }\n",
      "                }\n",
      "            }]\n",
      "        }\n",
      "\n",
      "    });\n",
      "\n",
      "    Highcharts.chart('coronavirus-cases-log', {\n",
      "        chart: {\n",
      "            type: 'line'\n",
      "        },\n",
      "        title: {\n",
      "            text: 'Total Cases'\n",
      "        },\n",
      "\n",
      "        subtitle: {\n",
      "            text: '(Logarithmic Scale)'\n",
      "        },\n",
      "\n",
      "        xAxis: {\n",
      "            categories: [\"Feb 15\",\"Feb 16\",\"Feb 17\",\"Feb 18\",\"Feb 19\",\"Feb 20\",\"Feb 21\",\"Feb 22\",\"Feb 23\",\"Feb 24\",\"Feb 25\",\"Feb 26\",\"Feb 27\",\"Feb 28\",\"Feb 29\",\"Mar 01\",\"Mar 02\",\"Mar 03\",\"Mar 04\",\"Mar 05\",\"Mar 06\",\"Mar 07\",\"Mar 08\",\"Mar 09\",\"Mar 10\",\"Mar 11\",\"Mar 12\",\"Mar 13\",\"Mar 14\",\"Mar 15\",\"Mar 16\",\"Mar 17\",\"Mar 18\",\"Mar 19\",\"Mar 20\",\"Mar 21\",\"Mar 22\",\"Mar 23\",\"Mar 24\",\"Mar 25\",\"Mar 26\",\"Mar 27\",\"Mar 28\",\"Mar 29\",\"Mar 30\",\"Mar 31\",\"Apr 01\",\"Apr 02\",\"Apr 03\",\"Apr 04\",\"Apr 05\",\"Apr 06\",\"Apr 07\",\"Apr 08\",\"Apr 09\",\"Apr 10\",\"Apr 11\",\"Apr 12\",\"Apr 13\",\"Apr 14\",\"Apr 15\",\"Apr 16\",\"Apr 17\",\"Apr 18\",\"Apr 19\",\"Apr 20\",\"Apr 21\",\"Apr 22\",\"Apr 23\",\"Apr 24\",\"Apr 25\",\"Apr 26\",\"Apr 27\",\"Apr 28\",\"Apr 29\",\"Apr 30\",\"May 01\"]        },\n",
      "\n",
      "        yAxis: {\n",
      "            title: {\n",
      "                text: 'Total Coronavirus Cases'\n",
      "            },\n",
      "\n",
      "            type: 'logarithmic'\n",
      "\n",
      "\n",
      "        },\n",
      "        legend: {\n",
      "            layout: 'vertical',\n",
      "            align: 'right',\n",
      "            verticalAlign: 'middle'\n",
      "        },\n",
      "\n",
      "        credits: {\n",
      "            enabled: false\n",
      "        },\n",
      "\n",
      "\n",
      "        series: [{\n",
      "            name: 'Cases',\n",
      "            color: '#33CCFF',\n",
      "            lineWidth: 5,\n",
      "            data: [12,12,12,12,12,12,12,12,12,12,14,18,38,57,100,130,191,212,285,423,653,949,1209,1412,1784,2281,2876,3661,4499,5423,6633,7730,9134,10995,12612,14459,16018,19856,22304,25233,29155,32964,37575,40174,44550,52128,56989,59105,76460,83019,87719,90452,99180,103061,107696,113927,118178,120633,124298,130253,133644,140772,143116,146782,147844,150278,153531,155944,158183,159828,161488,162100,163273,165911,166420,167178,167346]        }],\n",
      "\n",
      "        responsive: {\n",
      "            rules: [{\n",
      "                condition: {\n",
      "                    maxWidth: 800\n",
      "                },\n",
      "                chartOptions: {\n",
      "                    legend: {\n",
      "                        layout: 'horizontal',\n",
      "                        align: 'center',\n",
      "                        verticalAlign: 'bottom'\n",
      "                    }\n",
      "                }\n",
      "            }]\n",
      "        }\n",
      "\n",
      "    });\n",
      "</script> \n"
     ]
    }
   ],
   "source": [
    "print(country_case_chart_element)"
   ]
  },
  {
   "cell_type": "code",
   "execution_count": 28,
   "metadata": {
    "ExecuteTime": {
     "end_time": "2020-04-30T13:28:52.158333Z",
     "start_time": "2020-04-30T13:28:52.097916Z"
    }
   },
   "outputs": [
    {
     "name": "stdout",
     "output_type": "stream",
     "text": [
      "Loading page (1/2)\r\n",
      "[>                                                           ] 0%\r",
      "[======>                                                     ] 10%\r",
      "[==============================>                             ] 50%\r",
      "[============================================================] 100%\r",
      "Rendering (2/2)                                                    \r\n",
      "[>                                                           ] 0%\r",
      "[===============>                                            ] 25%\r",
      "[============================================================] 100%\r",
      "Done                                                               \r\n"
     ]
    },
    {
     "data": {
      "text/plain": [
       "True"
      ]
     },
     "execution_count": 28,
     "metadata": {},
     "output_type": "execute_result"
    }
   ],
   "source": [
    "options_country = {\n",
    "    'format': 'png',\n",
    "    'crop-h': '950',\n",
    "    'crop-w': '1450',\n",
    "    'crop-x': '1',\n",
    "    'crop-y': '1',\n",
    "    'encoding': \"UTF-8\"\n",
    "}\n",
    "\n",
    "options_global = {\n",
    "    'format': 'png',\n",
    "    'crop-h': '400',\n",
    "    'crop-w': '350',\n",
    "    'crop-x': '3',\n",
    "    'crop-y': '3',\n",
    "    'encoding': \"UTF-8\"\n",
    "}\n",
    "\n",
    "path_wkthmltoimage = r'D:\\wkhtmltopdf\\bin\\wkhtmltoimage.exe'\n",
    "config = imgkit.config(wkhtmltoimage=path_wkthmltoimage)\n",
    "\n",
    "imgkit.from_string(country_case_chart_element, 'xxx3.png',  options=options_country, config=config)"
   ]
  },
  {
   "cell_type": "code",
   "execution_count": 29,
   "metadata": {
    "ExecuteTime": {
     "end_time": "2020-04-29T16:00:58.132507Z",
     "start_time": "2020-04-29T16:00:58.128825Z"
    }
   },
   "outputs": [],
   "source": [
    "driver.close()"
   ]
  },
  {
   "cell_type": "code",
   "execution_count": null,
   "metadata": {},
   "outputs": [],
   "source": []
  }
 ],
 "metadata": {
  "kernelspec": {
   "display_name": "Python 3",
   "language": "python",
   "name": "python3"
  },
  "language_info": {
   "codemirror_mode": {
    "name": "ipython",
    "version": 3
   },
   "file_extension": ".py",
   "mimetype": "text/x-python",
   "name": "python",
   "nbconvert_exporter": "python",
   "pygments_lexer": "ipython3",
   "version": "3.7.6"
  },
  "toc": {
   "base_numbering": 1,
   "nav_menu": {},
   "number_sections": false,
   "sideBar": true,
   "skip_h1_title": false,
   "title_cell": "Table of Contents",
   "title_sidebar": "Contents",
   "toc_cell": true,
   "toc_position": {},
   "toc_section_display": true,
   "toc_window_display": true
  },
  "varInspector": {
   "cols": {
    "lenName": 16,
    "lenType": 16,
    "lenVar": 40
   },
   "kernels_config": {
    "python": {
     "delete_cmd_postfix": "",
     "delete_cmd_prefix": "del ",
     "library": "var_list.py",
     "varRefreshCmd": "print(var_dic_list())"
    },
    "r": {
     "delete_cmd_postfix": ") ",
     "delete_cmd_prefix": "rm(",
     "library": "var_list.r",
     "varRefreshCmd": "cat(var_dic_list()) "
    }
   },
   "types_to_exclude": [
    "module",
    "function",
    "builtin_function_or_method",
    "instance",
    "_Feature"
   ],
   "window_display": false
  }
 },
 "nbformat": 4,
 "nbformat_minor": 4
}
